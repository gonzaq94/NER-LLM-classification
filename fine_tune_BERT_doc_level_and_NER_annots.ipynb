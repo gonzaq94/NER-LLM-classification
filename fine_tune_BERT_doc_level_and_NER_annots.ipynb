{
  "nbformat": 4,
  "nbformat_minor": 0,
  "metadata": {
    "colab": {
      "provenance": [],
      "gpuType": "T4",
      "include_colab_link": true
    },
    "kernelspec": {
      "name": "python3",
      "display_name": "Python 3"
    },
    "language_info": {
      "name": "python"
    },
    "accelerator": "GPU",
    "widgets": {
      "application/vnd.jupyter.widget-state+json": {
        "b90de597bec3491b869e9acf88ad771e": {
          "model_module": "@jupyter-widgets/controls",
          "model_name": "HBoxModel",
          "model_module_version": "1.5.0",
          "state": {
            "_dom_classes": [],
            "_model_module": "@jupyter-widgets/controls",
            "_model_module_version": "1.5.0",
            "_model_name": "HBoxModel",
            "_view_count": null,
            "_view_module": "@jupyter-widgets/controls",
            "_view_module_version": "1.5.0",
            "_view_name": "HBoxView",
            "box_style": "",
            "children": [
              "IPY_MODEL_6e69335b7d1446a5b6511d2f4041f0ef",
              "IPY_MODEL_12c234e8d89643b09f4b9c03512980a9",
              "IPY_MODEL_5b41e96fa1704742963934b9b2e8cbef"
            ],
            "layout": "IPY_MODEL_2091eae0ebc54a85b951c73aaa2cdd02"
          }
        },
        "6e69335b7d1446a5b6511d2f4041f0ef": {
          "model_module": "@jupyter-widgets/controls",
          "model_name": "HTMLModel",
          "model_module_version": "1.5.0",
          "state": {
            "_dom_classes": [],
            "_model_module": "@jupyter-widgets/controls",
            "_model_module_version": "1.5.0",
            "_model_name": "HTMLModel",
            "_view_count": null,
            "_view_module": "@jupyter-widgets/controls",
            "_view_module_version": "1.5.0",
            "_view_name": "HTMLView",
            "description": "",
            "description_tooltip": null,
            "layout": "IPY_MODEL_dd8168f7ad7b4c2fa66968e67ef9adb5",
            "placeholder": "​",
            "style": "IPY_MODEL_355d98b57e2442c7b856e108045d70a1",
            "value": "tokenizer_config.json: 100%"
          }
        },
        "12c234e8d89643b09f4b9c03512980a9": {
          "model_module": "@jupyter-widgets/controls",
          "model_name": "FloatProgressModel",
          "model_module_version": "1.5.0",
          "state": {
            "_dom_classes": [],
            "_model_module": "@jupyter-widgets/controls",
            "_model_module_version": "1.5.0",
            "_model_name": "FloatProgressModel",
            "_view_count": null,
            "_view_module": "@jupyter-widgets/controls",
            "_view_module_version": "1.5.0",
            "_view_name": "ProgressView",
            "bar_style": "success",
            "description": "",
            "description_tooltip": null,
            "layout": "IPY_MODEL_9e26c315eba046da9d296d0755f53fce",
            "max": 48,
            "min": 0,
            "orientation": "horizontal",
            "style": "IPY_MODEL_a8a579b70ce542de98dc0213aed899ea",
            "value": 48
          }
        },
        "5b41e96fa1704742963934b9b2e8cbef": {
          "model_module": "@jupyter-widgets/controls",
          "model_name": "HTMLModel",
          "model_module_version": "1.5.0",
          "state": {
            "_dom_classes": [],
            "_model_module": "@jupyter-widgets/controls",
            "_model_module_version": "1.5.0",
            "_model_name": "HTMLModel",
            "_view_count": null,
            "_view_module": "@jupyter-widgets/controls",
            "_view_module_version": "1.5.0",
            "_view_name": "HTMLView",
            "description": "",
            "description_tooltip": null,
            "layout": "IPY_MODEL_08effb20a92d46d6b9cecbab5de22589",
            "placeholder": "​",
            "style": "IPY_MODEL_4093a10bfb5e4a52a07efeb40e3cd58f",
            "value": " 48.0/48.0 [00:00&lt;00:00, 1.84kB/s]"
          }
        },
        "2091eae0ebc54a85b951c73aaa2cdd02": {
          "model_module": "@jupyter-widgets/base",
          "model_name": "LayoutModel",
          "model_module_version": "1.2.0",
          "state": {
            "_model_module": "@jupyter-widgets/base",
            "_model_module_version": "1.2.0",
            "_model_name": "LayoutModel",
            "_view_count": null,
            "_view_module": "@jupyter-widgets/base",
            "_view_module_version": "1.2.0",
            "_view_name": "LayoutView",
            "align_content": null,
            "align_items": null,
            "align_self": null,
            "border": null,
            "bottom": null,
            "display": null,
            "flex": null,
            "flex_flow": null,
            "grid_area": null,
            "grid_auto_columns": null,
            "grid_auto_flow": null,
            "grid_auto_rows": null,
            "grid_column": null,
            "grid_gap": null,
            "grid_row": null,
            "grid_template_areas": null,
            "grid_template_columns": null,
            "grid_template_rows": null,
            "height": null,
            "justify_content": null,
            "justify_items": null,
            "left": null,
            "margin": null,
            "max_height": null,
            "max_width": null,
            "min_height": null,
            "min_width": null,
            "object_fit": null,
            "object_position": null,
            "order": null,
            "overflow": null,
            "overflow_x": null,
            "overflow_y": null,
            "padding": null,
            "right": null,
            "top": null,
            "visibility": null,
            "width": null
          }
        },
        "dd8168f7ad7b4c2fa66968e67ef9adb5": {
          "model_module": "@jupyter-widgets/base",
          "model_name": "LayoutModel",
          "model_module_version": "1.2.0",
          "state": {
            "_model_module": "@jupyter-widgets/base",
            "_model_module_version": "1.2.0",
            "_model_name": "LayoutModel",
            "_view_count": null,
            "_view_module": "@jupyter-widgets/base",
            "_view_module_version": "1.2.0",
            "_view_name": "LayoutView",
            "align_content": null,
            "align_items": null,
            "align_self": null,
            "border": null,
            "bottom": null,
            "display": null,
            "flex": null,
            "flex_flow": null,
            "grid_area": null,
            "grid_auto_columns": null,
            "grid_auto_flow": null,
            "grid_auto_rows": null,
            "grid_column": null,
            "grid_gap": null,
            "grid_row": null,
            "grid_template_areas": null,
            "grid_template_columns": null,
            "grid_template_rows": null,
            "height": null,
            "justify_content": null,
            "justify_items": null,
            "left": null,
            "margin": null,
            "max_height": null,
            "max_width": null,
            "min_height": null,
            "min_width": null,
            "object_fit": null,
            "object_position": null,
            "order": null,
            "overflow": null,
            "overflow_x": null,
            "overflow_y": null,
            "padding": null,
            "right": null,
            "top": null,
            "visibility": null,
            "width": null
          }
        },
        "355d98b57e2442c7b856e108045d70a1": {
          "model_module": "@jupyter-widgets/controls",
          "model_name": "DescriptionStyleModel",
          "model_module_version": "1.5.0",
          "state": {
            "_model_module": "@jupyter-widgets/controls",
            "_model_module_version": "1.5.0",
            "_model_name": "DescriptionStyleModel",
            "_view_count": null,
            "_view_module": "@jupyter-widgets/base",
            "_view_module_version": "1.2.0",
            "_view_name": "StyleView",
            "description_width": ""
          }
        },
        "9e26c315eba046da9d296d0755f53fce": {
          "model_module": "@jupyter-widgets/base",
          "model_name": "LayoutModel",
          "model_module_version": "1.2.0",
          "state": {
            "_model_module": "@jupyter-widgets/base",
            "_model_module_version": "1.2.0",
            "_model_name": "LayoutModel",
            "_view_count": null,
            "_view_module": "@jupyter-widgets/base",
            "_view_module_version": "1.2.0",
            "_view_name": "LayoutView",
            "align_content": null,
            "align_items": null,
            "align_self": null,
            "border": null,
            "bottom": null,
            "display": null,
            "flex": null,
            "flex_flow": null,
            "grid_area": null,
            "grid_auto_columns": null,
            "grid_auto_flow": null,
            "grid_auto_rows": null,
            "grid_column": null,
            "grid_gap": null,
            "grid_row": null,
            "grid_template_areas": null,
            "grid_template_columns": null,
            "grid_template_rows": null,
            "height": null,
            "justify_content": null,
            "justify_items": null,
            "left": null,
            "margin": null,
            "max_height": null,
            "max_width": null,
            "min_height": null,
            "min_width": null,
            "object_fit": null,
            "object_position": null,
            "order": null,
            "overflow": null,
            "overflow_x": null,
            "overflow_y": null,
            "padding": null,
            "right": null,
            "top": null,
            "visibility": null,
            "width": null
          }
        },
        "a8a579b70ce542de98dc0213aed899ea": {
          "model_module": "@jupyter-widgets/controls",
          "model_name": "ProgressStyleModel",
          "model_module_version": "1.5.0",
          "state": {
            "_model_module": "@jupyter-widgets/controls",
            "_model_module_version": "1.5.0",
            "_model_name": "ProgressStyleModel",
            "_view_count": null,
            "_view_module": "@jupyter-widgets/base",
            "_view_module_version": "1.2.0",
            "_view_name": "StyleView",
            "bar_color": null,
            "description_width": ""
          }
        },
        "08effb20a92d46d6b9cecbab5de22589": {
          "model_module": "@jupyter-widgets/base",
          "model_name": "LayoutModel",
          "model_module_version": "1.2.0",
          "state": {
            "_model_module": "@jupyter-widgets/base",
            "_model_module_version": "1.2.0",
            "_model_name": "LayoutModel",
            "_view_count": null,
            "_view_module": "@jupyter-widgets/base",
            "_view_module_version": "1.2.0",
            "_view_name": "LayoutView",
            "align_content": null,
            "align_items": null,
            "align_self": null,
            "border": null,
            "bottom": null,
            "display": null,
            "flex": null,
            "flex_flow": null,
            "grid_area": null,
            "grid_auto_columns": null,
            "grid_auto_flow": null,
            "grid_auto_rows": null,
            "grid_column": null,
            "grid_gap": null,
            "grid_row": null,
            "grid_template_areas": null,
            "grid_template_columns": null,
            "grid_template_rows": null,
            "height": null,
            "justify_content": null,
            "justify_items": null,
            "left": null,
            "margin": null,
            "max_height": null,
            "max_width": null,
            "min_height": null,
            "min_width": null,
            "object_fit": null,
            "object_position": null,
            "order": null,
            "overflow": null,
            "overflow_x": null,
            "overflow_y": null,
            "padding": null,
            "right": null,
            "top": null,
            "visibility": null,
            "width": null
          }
        },
        "4093a10bfb5e4a52a07efeb40e3cd58f": {
          "model_module": "@jupyter-widgets/controls",
          "model_name": "DescriptionStyleModel",
          "model_module_version": "1.5.0",
          "state": {
            "_model_module": "@jupyter-widgets/controls",
            "_model_module_version": "1.5.0",
            "_model_name": "DescriptionStyleModel",
            "_view_count": null,
            "_view_module": "@jupyter-widgets/base",
            "_view_module_version": "1.2.0",
            "_view_name": "StyleView",
            "description_width": ""
          }
        },
        "7013702b3caf422ab1e747793f124a74": {
          "model_module": "@jupyter-widgets/controls",
          "model_name": "HBoxModel",
          "model_module_version": "1.5.0",
          "state": {
            "_dom_classes": [],
            "_model_module": "@jupyter-widgets/controls",
            "_model_module_version": "1.5.0",
            "_model_name": "HBoxModel",
            "_view_count": null,
            "_view_module": "@jupyter-widgets/controls",
            "_view_module_version": "1.5.0",
            "_view_name": "HBoxView",
            "box_style": "",
            "children": [
              "IPY_MODEL_5ea7df48a75a4f2bbc4cd88013ca18ce",
              "IPY_MODEL_b7c3732adf5442c895f185ea4ed679d7",
              "IPY_MODEL_7f95286f1f434053939f8f3679719220"
            ],
            "layout": "IPY_MODEL_6addd2d061e144199d21bc403b0cce39"
          }
        },
        "5ea7df48a75a4f2bbc4cd88013ca18ce": {
          "model_module": "@jupyter-widgets/controls",
          "model_name": "HTMLModel",
          "model_module_version": "1.5.0",
          "state": {
            "_dom_classes": [],
            "_model_module": "@jupyter-widgets/controls",
            "_model_module_version": "1.5.0",
            "_model_name": "HTMLModel",
            "_view_count": null,
            "_view_module": "@jupyter-widgets/controls",
            "_view_module_version": "1.5.0",
            "_view_name": "HTMLView",
            "description": "",
            "description_tooltip": null,
            "layout": "IPY_MODEL_d07a5562cc6c48388c681029b1fedb93",
            "placeholder": "​",
            "style": "IPY_MODEL_3f5590e402a04205840ebaeb93117264",
            "value": "config.json: 100%"
          }
        },
        "b7c3732adf5442c895f185ea4ed679d7": {
          "model_module": "@jupyter-widgets/controls",
          "model_name": "FloatProgressModel",
          "model_module_version": "1.5.0",
          "state": {
            "_dom_classes": [],
            "_model_module": "@jupyter-widgets/controls",
            "_model_module_version": "1.5.0",
            "_model_name": "FloatProgressModel",
            "_view_count": null,
            "_view_module": "@jupyter-widgets/controls",
            "_view_module_version": "1.5.0",
            "_view_name": "ProgressView",
            "bar_style": "success",
            "description": "",
            "description_tooltip": null,
            "layout": "IPY_MODEL_a446e6a449fb4a3b9a6166be80cdb55c",
            "max": 570,
            "min": 0,
            "orientation": "horizontal",
            "style": "IPY_MODEL_2e145ee660c4488bbaaea1eddb238878",
            "value": 570
          }
        },
        "7f95286f1f434053939f8f3679719220": {
          "model_module": "@jupyter-widgets/controls",
          "model_name": "HTMLModel",
          "model_module_version": "1.5.0",
          "state": {
            "_dom_classes": [],
            "_model_module": "@jupyter-widgets/controls",
            "_model_module_version": "1.5.0",
            "_model_name": "HTMLModel",
            "_view_count": null,
            "_view_module": "@jupyter-widgets/controls",
            "_view_module_version": "1.5.0",
            "_view_name": "HTMLView",
            "description": "",
            "description_tooltip": null,
            "layout": "IPY_MODEL_64867f588d0e4cf9b0e282cff48cb40c",
            "placeholder": "​",
            "style": "IPY_MODEL_5055c583bd964c249d931e1449c32f09",
            "value": " 570/570 [00:00&lt;00:00, 32.3kB/s]"
          }
        },
        "6addd2d061e144199d21bc403b0cce39": {
          "model_module": "@jupyter-widgets/base",
          "model_name": "LayoutModel",
          "model_module_version": "1.2.0",
          "state": {
            "_model_module": "@jupyter-widgets/base",
            "_model_module_version": "1.2.0",
            "_model_name": "LayoutModel",
            "_view_count": null,
            "_view_module": "@jupyter-widgets/base",
            "_view_module_version": "1.2.0",
            "_view_name": "LayoutView",
            "align_content": null,
            "align_items": null,
            "align_self": null,
            "border": null,
            "bottom": null,
            "display": null,
            "flex": null,
            "flex_flow": null,
            "grid_area": null,
            "grid_auto_columns": null,
            "grid_auto_flow": null,
            "grid_auto_rows": null,
            "grid_column": null,
            "grid_gap": null,
            "grid_row": null,
            "grid_template_areas": null,
            "grid_template_columns": null,
            "grid_template_rows": null,
            "height": null,
            "justify_content": null,
            "justify_items": null,
            "left": null,
            "margin": null,
            "max_height": null,
            "max_width": null,
            "min_height": null,
            "min_width": null,
            "object_fit": null,
            "object_position": null,
            "order": null,
            "overflow": null,
            "overflow_x": null,
            "overflow_y": null,
            "padding": null,
            "right": null,
            "top": null,
            "visibility": null,
            "width": null
          }
        },
        "d07a5562cc6c48388c681029b1fedb93": {
          "model_module": "@jupyter-widgets/base",
          "model_name": "LayoutModel",
          "model_module_version": "1.2.0",
          "state": {
            "_model_module": "@jupyter-widgets/base",
            "_model_module_version": "1.2.0",
            "_model_name": "LayoutModel",
            "_view_count": null,
            "_view_module": "@jupyter-widgets/base",
            "_view_module_version": "1.2.0",
            "_view_name": "LayoutView",
            "align_content": null,
            "align_items": null,
            "align_self": null,
            "border": null,
            "bottom": null,
            "display": null,
            "flex": null,
            "flex_flow": null,
            "grid_area": null,
            "grid_auto_columns": null,
            "grid_auto_flow": null,
            "grid_auto_rows": null,
            "grid_column": null,
            "grid_gap": null,
            "grid_row": null,
            "grid_template_areas": null,
            "grid_template_columns": null,
            "grid_template_rows": null,
            "height": null,
            "justify_content": null,
            "justify_items": null,
            "left": null,
            "margin": null,
            "max_height": null,
            "max_width": null,
            "min_height": null,
            "min_width": null,
            "object_fit": null,
            "object_position": null,
            "order": null,
            "overflow": null,
            "overflow_x": null,
            "overflow_y": null,
            "padding": null,
            "right": null,
            "top": null,
            "visibility": null,
            "width": null
          }
        },
        "3f5590e402a04205840ebaeb93117264": {
          "model_module": "@jupyter-widgets/controls",
          "model_name": "DescriptionStyleModel",
          "model_module_version": "1.5.0",
          "state": {
            "_model_module": "@jupyter-widgets/controls",
            "_model_module_version": "1.5.0",
            "_model_name": "DescriptionStyleModel",
            "_view_count": null,
            "_view_module": "@jupyter-widgets/base",
            "_view_module_version": "1.2.0",
            "_view_name": "StyleView",
            "description_width": ""
          }
        },
        "a446e6a449fb4a3b9a6166be80cdb55c": {
          "model_module": "@jupyter-widgets/base",
          "model_name": "LayoutModel",
          "model_module_version": "1.2.0",
          "state": {
            "_model_module": "@jupyter-widgets/base",
            "_model_module_version": "1.2.0",
            "_model_name": "LayoutModel",
            "_view_count": null,
            "_view_module": "@jupyter-widgets/base",
            "_view_module_version": "1.2.0",
            "_view_name": "LayoutView",
            "align_content": null,
            "align_items": null,
            "align_self": null,
            "border": null,
            "bottom": null,
            "display": null,
            "flex": null,
            "flex_flow": null,
            "grid_area": null,
            "grid_auto_columns": null,
            "grid_auto_flow": null,
            "grid_auto_rows": null,
            "grid_column": null,
            "grid_gap": null,
            "grid_row": null,
            "grid_template_areas": null,
            "grid_template_columns": null,
            "grid_template_rows": null,
            "height": null,
            "justify_content": null,
            "justify_items": null,
            "left": null,
            "margin": null,
            "max_height": null,
            "max_width": null,
            "min_height": null,
            "min_width": null,
            "object_fit": null,
            "object_position": null,
            "order": null,
            "overflow": null,
            "overflow_x": null,
            "overflow_y": null,
            "padding": null,
            "right": null,
            "top": null,
            "visibility": null,
            "width": null
          }
        },
        "2e145ee660c4488bbaaea1eddb238878": {
          "model_module": "@jupyter-widgets/controls",
          "model_name": "ProgressStyleModel",
          "model_module_version": "1.5.0",
          "state": {
            "_model_module": "@jupyter-widgets/controls",
            "_model_module_version": "1.5.0",
            "_model_name": "ProgressStyleModel",
            "_view_count": null,
            "_view_module": "@jupyter-widgets/base",
            "_view_module_version": "1.2.0",
            "_view_name": "StyleView",
            "bar_color": null,
            "description_width": ""
          }
        },
        "64867f588d0e4cf9b0e282cff48cb40c": {
          "model_module": "@jupyter-widgets/base",
          "model_name": "LayoutModel",
          "model_module_version": "1.2.0",
          "state": {
            "_model_module": "@jupyter-widgets/base",
            "_model_module_version": "1.2.0",
            "_model_name": "LayoutModel",
            "_view_count": null,
            "_view_module": "@jupyter-widgets/base",
            "_view_module_version": "1.2.0",
            "_view_name": "LayoutView",
            "align_content": null,
            "align_items": null,
            "align_self": null,
            "border": null,
            "bottom": null,
            "display": null,
            "flex": null,
            "flex_flow": null,
            "grid_area": null,
            "grid_auto_columns": null,
            "grid_auto_flow": null,
            "grid_auto_rows": null,
            "grid_column": null,
            "grid_gap": null,
            "grid_row": null,
            "grid_template_areas": null,
            "grid_template_columns": null,
            "grid_template_rows": null,
            "height": null,
            "justify_content": null,
            "justify_items": null,
            "left": null,
            "margin": null,
            "max_height": null,
            "max_width": null,
            "min_height": null,
            "min_width": null,
            "object_fit": null,
            "object_position": null,
            "order": null,
            "overflow": null,
            "overflow_x": null,
            "overflow_y": null,
            "padding": null,
            "right": null,
            "top": null,
            "visibility": null,
            "width": null
          }
        },
        "5055c583bd964c249d931e1449c32f09": {
          "model_module": "@jupyter-widgets/controls",
          "model_name": "DescriptionStyleModel",
          "model_module_version": "1.5.0",
          "state": {
            "_model_module": "@jupyter-widgets/controls",
            "_model_module_version": "1.5.0",
            "_model_name": "DescriptionStyleModel",
            "_view_count": null,
            "_view_module": "@jupyter-widgets/base",
            "_view_module_version": "1.2.0",
            "_view_name": "StyleView",
            "description_width": ""
          }
        },
        "d3c2727f0a7c4602a21ae2bf50c6c7aa": {
          "model_module": "@jupyter-widgets/controls",
          "model_name": "HBoxModel",
          "model_module_version": "1.5.0",
          "state": {
            "_dom_classes": [],
            "_model_module": "@jupyter-widgets/controls",
            "_model_module_version": "1.5.0",
            "_model_name": "HBoxModel",
            "_view_count": null,
            "_view_module": "@jupyter-widgets/controls",
            "_view_module_version": "1.5.0",
            "_view_name": "HBoxView",
            "box_style": "",
            "children": [
              "IPY_MODEL_6159cd28d7cc41faa885bb066f8ecaaf",
              "IPY_MODEL_c01aec9456de4f2ab9f3a4d357233b47",
              "IPY_MODEL_4218687640594ba6a62fb08f615b2879"
            ],
            "layout": "IPY_MODEL_921fd66e30d547d781a96e1967007854"
          }
        },
        "6159cd28d7cc41faa885bb066f8ecaaf": {
          "model_module": "@jupyter-widgets/controls",
          "model_name": "HTMLModel",
          "model_module_version": "1.5.0",
          "state": {
            "_dom_classes": [],
            "_model_module": "@jupyter-widgets/controls",
            "_model_module_version": "1.5.0",
            "_model_name": "HTMLModel",
            "_view_count": null,
            "_view_module": "@jupyter-widgets/controls",
            "_view_module_version": "1.5.0",
            "_view_name": "HTMLView",
            "description": "",
            "description_tooltip": null,
            "layout": "IPY_MODEL_c64f166a0f8e4098b4ba55e770fac86d",
            "placeholder": "​",
            "style": "IPY_MODEL_840c8150528c4b6f96f6361a7bbd24a9",
            "value": "vocab.txt: 100%"
          }
        },
        "c01aec9456de4f2ab9f3a4d357233b47": {
          "model_module": "@jupyter-widgets/controls",
          "model_name": "FloatProgressModel",
          "model_module_version": "1.5.0",
          "state": {
            "_dom_classes": [],
            "_model_module": "@jupyter-widgets/controls",
            "_model_module_version": "1.5.0",
            "_model_name": "FloatProgressModel",
            "_view_count": null,
            "_view_module": "@jupyter-widgets/controls",
            "_view_module_version": "1.5.0",
            "_view_name": "ProgressView",
            "bar_style": "success",
            "description": "",
            "description_tooltip": null,
            "layout": "IPY_MODEL_38f73cdedef0439dba22c3fa5863543e",
            "max": 231508,
            "min": 0,
            "orientation": "horizontal",
            "style": "IPY_MODEL_d80d2a6d02f8462f80799f3ead98a996",
            "value": 231508
          }
        },
        "4218687640594ba6a62fb08f615b2879": {
          "model_module": "@jupyter-widgets/controls",
          "model_name": "HTMLModel",
          "model_module_version": "1.5.0",
          "state": {
            "_dom_classes": [],
            "_model_module": "@jupyter-widgets/controls",
            "_model_module_version": "1.5.0",
            "_model_name": "HTMLModel",
            "_view_count": null,
            "_view_module": "@jupyter-widgets/controls",
            "_view_module_version": "1.5.0",
            "_view_name": "HTMLView",
            "description": "",
            "description_tooltip": null,
            "layout": "IPY_MODEL_5ef3bfd35fdb4c89bd9155a25419c0f5",
            "placeholder": "​",
            "style": "IPY_MODEL_31c60128bddd429bab6838c429d79902",
            "value": " 232k/232k [00:00&lt;00:00, 3.97MB/s]"
          }
        },
        "921fd66e30d547d781a96e1967007854": {
          "model_module": "@jupyter-widgets/base",
          "model_name": "LayoutModel",
          "model_module_version": "1.2.0",
          "state": {
            "_model_module": "@jupyter-widgets/base",
            "_model_module_version": "1.2.0",
            "_model_name": "LayoutModel",
            "_view_count": null,
            "_view_module": "@jupyter-widgets/base",
            "_view_module_version": "1.2.0",
            "_view_name": "LayoutView",
            "align_content": null,
            "align_items": null,
            "align_self": null,
            "border": null,
            "bottom": null,
            "display": null,
            "flex": null,
            "flex_flow": null,
            "grid_area": null,
            "grid_auto_columns": null,
            "grid_auto_flow": null,
            "grid_auto_rows": null,
            "grid_column": null,
            "grid_gap": null,
            "grid_row": null,
            "grid_template_areas": null,
            "grid_template_columns": null,
            "grid_template_rows": null,
            "height": null,
            "justify_content": null,
            "justify_items": null,
            "left": null,
            "margin": null,
            "max_height": null,
            "max_width": null,
            "min_height": null,
            "min_width": null,
            "object_fit": null,
            "object_position": null,
            "order": null,
            "overflow": null,
            "overflow_x": null,
            "overflow_y": null,
            "padding": null,
            "right": null,
            "top": null,
            "visibility": null,
            "width": null
          }
        },
        "c64f166a0f8e4098b4ba55e770fac86d": {
          "model_module": "@jupyter-widgets/base",
          "model_name": "LayoutModel",
          "model_module_version": "1.2.0",
          "state": {
            "_model_module": "@jupyter-widgets/base",
            "_model_module_version": "1.2.0",
            "_model_name": "LayoutModel",
            "_view_count": null,
            "_view_module": "@jupyter-widgets/base",
            "_view_module_version": "1.2.0",
            "_view_name": "LayoutView",
            "align_content": null,
            "align_items": null,
            "align_self": null,
            "border": null,
            "bottom": null,
            "display": null,
            "flex": null,
            "flex_flow": null,
            "grid_area": null,
            "grid_auto_columns": null,
            "grid_auto_flow": null,
            "grid_auto_rows": null,
            "grid_column": null,
            "grid_gap": null,
            "grid_row": null,
            "grid_template_areas": null,
            "grid_template_columns": null,
            "grid_template_rows": null,
            "height": null,
            "justify_content": null,
            "justify_items": null,
            "left": null,
            "margin": null,
            "max_height": null,
            "max_width": null,
            "min_height": null,
            "min_width": null,
            "object_fit": null,
            "object_position": null,
            "order": null,
            "overflow": null,
            "overflow_x": null,
            "overflow_y": null,
            "padding": null,
            "right": null,
            "top": null,
            "visibility": null,
            "width": null
          }
        },
        "840c8150528c4b6f96f6361a7bbd24a9": {
          "model_module": "@jupyter-widgets/controls",
          "model_name": "DescriptionStyleModel",
          "model_module_version": "1.5.0",
          "state": {
            "_model_module": "@jupyter-widgets/controls",
            "_model_module_version": "1.5.0",
            "_model_name": "DescriptionStyleModel",
            "_view_count": null,
            "_view_module": "@jupyter-widgets/base",
            "_view_module_version": "1.2.0",
            "_view_name": "StyleView",
            "description_width": ""
          }
        },
        "38f73cdedef0439dba22c3fa5863543e": {
          "model_module": "@jupyter-widgets/base",
          "model_name": "LayoutModel",
          "model_module_version": "1.2.0",
          "state": {
            "_model_module": "@jupyter-widgets/base",
            "_model_module_version": "1.2.0",
            "_model_name": "LayoutModel",
            "_view_count": null,
            "_view_module": "@jupyter-widgets/base",
            "_view_module_version": "1.2.0",
            "_view_name": "LayoutView",
            "align_content": null,
            "align_items": null,
            "align_self": null,
            "border": null,
            "bottom": null,
            "display": null,
            "flex": null,
            "flex_flow": null,
            "grid_area": null,
            "grid_auto_columns": null,
            "grid_auto_flow": null,
            "grid_auto_rows": null,
            "grid_column": null,
            "grid_gap": null,
            "grid_row": null,
            "grid_template_areas": null,
            "grid_template_columns": null,
            "grid_template_rows": null,
            "height": null,
            "justify_content": null,
            "justify_items": null,
            "left": null,
            "margin": null,
            "max_height": null,
            "max_width": null,
            "min_height": null,
            "min_width": null,
            "object_fit": null,
            "object_position": null,
            "order": null,
            "overflow": null,
            "overflow_x": null,
            "overflow_y": null,
            "padding": null,
            "right": null,
            "top": null,
            "visibility": null,
            "width": null
          }
        },
        "d80d2a6d02f8462f80799f3ead98a996": {
          "model_module": "@jupyter-widgets/controls",
          "model_name": "ProgressStyleModel",
          "model_module_version": "1.5.0",
          "state": {
            "_model_module": "@jupyter-widgets/controls",
            "_model_module_version": "1.5.0",
            "_model_name": "ProgressStyleModel",
            "_view_count": null,
            "_view_module": "@jupyter-widgets/base",
            "_view_module_version": "1.2.0",
            "_view_name": "StyleView",
            "bar_color": null,
            "description_width": ""
          }
        },
        "5ef3bfd35fdb4c89bd9155a25419c0f5": {
          "model_module": "@jupyter-widgets/base",
          "model_name": "LayoutModel",
          "model_module_version": "1.2.0",
          "state": {
            "_model_module": "@jupyter-widgets/base",
            "_model_module_version": "1.2.0",
            "_model_name": "LayoutModel",
            "_view_count": null,
            "_view_module": "@jupyter-widgets/base",
            "_view_module_version": "1.2.0",
            "_view_name": "LayoutView",
            "align_content": null,
            "align_items": null,
            "align_self": null,
            "border": null,
            "bottom": null,
            "display": null,
            "flex": null,
            "flex_flow": null,
            "grid_area": null,
            "grid_auto_columns": null,
            "grid_auto_flow": null,
            "grid_auto_rows": null,
            "grid_column": null,
            "grid_gap": null,
            "grid_row": null,
            "grid_template_areas": null,
            "grid_template_columns": null,
            "grid_template_rows": null,
            "height": null,
            "justify_content": null,
            "justify_items": null,
            "left": null,
            "margin": null,
            "max_height": null,
            "max_width": null,
            "min_height": null,
            "min_width": null,
            "object_fit": null,
            "object_position": null,
            "order": null,
            "overflow": null,
            "overflow_x": null,
            "overflow_y": null,
            "padding": null,
            "right": null,
            "top": null,
            "visibility": null,
            "width": null
          }
        },
        "31c60128bddd429bab6838c429d79902": {
          "model_module": "@jupyter-widgets/controls",
          "model_name": "DescriptionStyleModel",
          "model_module_version": "1.5.0",
          "state": {
            "_model_module": "@jupyter-widgets/controls",
            "_model_module_version": "1.5.0",
            "_model_name": "DescriptionStyleModel",
            "_view_count": null,
            "_view_module": "@jupyter-widgets/base",
            "_view_module_version": "1.2.0",
            "_view_name": "StyleView",
            "description_width": ""
          }
        },
        "6bb6aa141448405898206db97c7a43b6": {
          "model_module": "@jupyter-widgets/controls",
          "model_name": "HBoxModel",
          "model_module_version": "1.5.0",
          "state": {
            "_dom_classes": [],
            "_model_module": "@jupyter-widgets/controls",
            "_model_module_version": "1.5.0",
            "_model_name": "HBoxModel",
            "_view_count": null,
            "_view_module": "@jupyter-widgets/controls",
            "_view_module_version": "1.5.0",
            "_view_name": "HBoxView",
            "box_style": "",
            "children": [
              "IPY_MODEL_d810da43cbfa455da350539f25be8625",
              "IPY_MODEL_b569c3dbb36048c7a445f684447f42c3",
              "IPY_MODEL_9df918cb522f49a69eba4aacfe58e519"
            ],
            "layout": "IPY_MODEL_897432447a1b4141b93581c99f2cdce8"
          }
        },
        "d810da43cbfa455da350539f25be8625": {
          "model_module": "@jupyter-widgets/controls",
          "model_name": "HTMLModel",
          "model_module_version": "1.5.0",
          "state": {
            "_dom_classes": [],
            "_model_module": "@jupyter-widgets/controls",
            "_model_module_version": "1.5.0",
            "_model_name": "HTMLModel",
            "_view_count": null,
            "_view_module": "@jupyter-widgets/controls",
            "_view_module_version": "1.5.0",
            "_view_name": "HTMLView",
            "description": "",
            "description_tooltip": null,
            "layout": "IPY_MODEL_7596d72b30d54a00b3efc9fe68e1e1c6",
            "placeholder": "​",
            "style": "IPY_MODEL_7d8cbbe7b1b149278630e6ae5c981808",
            "value": "tokenizer.json: 100%"
          }
        },
        "b569c3dbb36048c7a445f684447f42c3": {
          "model_module": "@jupyter-widgets/controls",
          "model_name": "FloatProgressModel",
          "model_module_version": "1.5.0",
          "state": {
            "_dom_classes": [],
            "_model_module": "@jupyter-widgets/controls",
            "_model_module_version": "1.5.0",
            "_model_name": "FloatProgressModel",
            "_view_count": null,
            "_view_module": "@jupyter-widgets/controls",
            "_view_module_version": "1.5.0",
            "_view_name": "ProgressView",
            "bar_style": "success",
            "description": "",
            "description_tooltip": null,
            "layout": "IPY_MODEL_95d5a65bab004a8a84c356bb5073a419",
            "max": 466062,
            "min": 0,
            "orientation": "horizontal",
            "style": "IPY_MODEL_47416e51a30848ab9e53a84087f7ecaa",
            "value": 466062
          }
        },
        "9df918cb522f49a69eba4aacfe58e519": {
          "model_module": "@jupyter-widgets/controls",
          "model_name": "HTMLModel",
          "model_module_version": "1.5.0",
          "state": {
            "_dom_classes": [],
            "_model_module": "@jupyter-widgets/controls",
            "_model_module_version": "1.5.0",
            "_model_name": "HTMLModel",
            "_view_count": null,
            "_view_module": "@jupyter-widgets/controls",
            "_view_module_version": "1.5.0",
            "_view_name": "HTMLView",
            "description": "",
            "description_tooltip": null,
            "layout": "IPY_MODEL_dfea6e5c2e9e4b46842048eb82ba41ac",
            "placeholder": "​",
            "style": "IPY_MODEL_8733770e78d245bfb9209a23dd0bc05b",
            "value": " 466k/466k [00:00&lt;00:00, 2.18MB/s]"
          }
        },
        "897432447a1b4141b93581c99f2cdce8": {
          "model_module": "@jupyter-widgets/base",
          "model_name": "LayoutModel",
          "model_module_version": "1.2.0",
          "state": {
            "_model_module": "@jupyter-widgets/base",
            "_model_module_version": "1.2.0",
            "_model_name": "LayoutModel",
            "_view_count": null,
            "_view_module": "@jupyter-widgets/base",
            "_view_module_version": "1.2.0",
            "_view_name": "LayoutView",
            "align_content": null,
            "align_items": null,
            "align_self": null,
            "border": null,
            "bottom": null,
            "display": null,
            "flex": null,
            "flex_flow": null,
            "grid_area": null,
            "grid_auto_columns": null,
            "grid_auto_flow": null,
            "grid_auto_rows": null,
            "grid_column": null,
            "grid_gap": null,
            "grid_row": null,
            "grid_template_areas": null,
            "grid_template_columns": null,
            "grid_template_rows": null,
            "height": null,
            "justify_content": null,
            "justify_items": null,
            "left": null,
            "margin": null,
            "max_height": null,
            "max_width": null,
            "min_height": null,
            "min_width": null,
            "object_fit": null,
            "object_position": null,
            "order": null,
            "overflow": null,
            "overflow_x": null,
            "overflow_y": null,
            "padding": null,
            "right": null,
            "top": null,
            "visibility": null,
            "width": null
          }
        },
        "7596d72b30d54a00b3efc9fe68e1e1c6": {
          "model_module": "@jupyter-widgets/base",
          "model_name": "LayoutModel",
          "model_module_version": "1.2.0",
          "state": {
            "_model_module": "@jupyter-widgets/base",
            "_model_module_version": "1.2.0",
            "_model_name": "LayoutModel",
            "_view_count": null,
            "_view_module": "@jupyter-widgets/base",
            "_view_module_version": "1.2.0",
            "_view_name": "LayoutView",
            "align_content": null,
            "align_items": null,
            "align_self": null,
            "border": null,
            "bottom": null,
            "display": null,
            "flex": null,
            "flex_flow": null,
            "grid_area": null,
            "grid_auto_columns": null,
            "grid_auto_flow": null,
            "grid_auto_rows": null,
            "grid_column": null,
            "grid_gap": null,
            "grid_row": null,
            "grid_template_areas": null,
            "grid_template_columns": null,
            "grid_template_rows": null,
            "height": null,
            "justify_content": null,
            "justify_items": null,
            "left": null,
            "margin": null,
            "max_height": null,
            "max_width": null,
            "min_height": null,
            "min_width": null,
            "object_fit": null,
            "object_position": null,
            "order": null,
            "overflow": null,
            "overflow_x": null,
            "overflow_y": null,
            "padding": null,
            "right": null,
            "top": null,
            "visibility": null,
            "width": null
          }
        },
        "7d8cbbe7b1b149278630e6ae5c981808": {
          "model_module": "@jupyter-widgets/controls",
          "model_name": "DescriptionStyleModel",
          "model_module_version": "1.5.0",
          "state": {
            "_model_module": "@jupyter-widgets/controls",
            "_model_module_version": "1.5.0",
            "_model_name": "DescriptionStyleModel",
            "_view_count": null,
            "_view_module": "@jupyter-widgets/base",
            "_view_module_version": "1.2.0",
            "_view_name": "StyleView",
            "description_width": ""
          }
        },
        "95d5a65bab004a8a84c356bb5073a419": {
          "model_module": "@jupyter-widgets/base",
          "model_name": "LayoutModel",
          "model_module_version": "1.2.0",
          "state": {
            "_model_module": "@jupyter-widgets/base",
            "_model_module_version": "1.2.0",
            "_model_name": "LayoutModel",
            "_view_count": null,
            "_view_module": "@jupyter-widgets/base",
            "_view_module_version": "1.2.0",
            "_view_name": "LayoutView",
            "align_content": null,
            "align_items": null,
            "align_self": null,
            "border": null,
            "bottom": null,
            "display": null,
            "flex": null,
            "flex_flow": null,
            "grid_area": null,
            "grid_auto_columns": null,
            "grid_auto_flow": null,
            "grid_auto_rows": null,
            "grid_column": null,
            "grid_gap": null,
            "grid_row": null,
            "grid_template_areas": null,
            "grid_template_columns": null,
            "grid_template_rows": null,
            "height": null,
            "justify_content": null,
            "justify_items": null,
            "left": null,
            "margin": null,
            "max_height": null,
            "max_width": null,
            "min_height": null,
            "min_width": null,
            "object_fit": null,
            "object_position": null,
            "order": null,
            "overflow": null,
            "overflow_x": null,
            "overflow_y": null,
            "padding": null,
            "right": null,
            "top": null,
            "visibility": null,
            "width": null
          }
        },
        "47416e51a30848ab9e53a84087f7ecaa": {
          "model_module": "@jupyter-widgets/controls",
          "model_name": "ProgressStyleModel",
          "model_module_version": "1.5.0",
          "state": {
            "_model_module": "@jupyter-widgets/controls",
            "_model_module_version": "1.5.0",
            "_model_name": "ProgressStyleModel",
            "_view_count": null,
            "_view_module": "@jupyter-widgets/base",
            "_view_module_version": "1.2.0",
            "_view_name": "StyleView",
            "bar_color": null,
            "description_width": ""
          }
        },
        "dfea6e5c2e9e4b46842048eb82ba41ac": {
          "model_module": "@jupyter-widgets/base",
          "model_name": "LayoutModel",
          "model_module_version": "1.2.0",
          "state": {
            "_model_module": "@jupyter-widgets/base",
            "_model_module_version": "1.2.0",
            "_model_name": "LayoutModel",
            "_view_count": null,
            "_view_module": "@jupyter-widgets/base",
            "_view_module_version": "1.2.0",
            "_view_name": "LayoutView",
            "align_content": null,
            "align_items": null,
            "align_self": null,
            "border": null,
            "bottom": null,
            "display": null,
            "flex": null,
            "flex_flow": null,
            "grid_area": null,
            "grid_auto_columns": null,
            "grid_auto_flow": null,
            "grid_auto_rows": null,
            "grid_column": null,
            "grid_gap": null,
            "grid_row": null,
            "grid_template_areas": null,
            "grid_template_columns": null,
            "grid_template_rows": null,
            "height": null,
            "justify_content": null,
            "justify_items": null,
            "left": null,
            "margin": null,
            "max_height": null,
            "max_width": null,
            "min_height": null,
            "min_width": null,
            "object_fit": null,
            "object_position": null,
            "order": null,
            "overflow": null,
            "overflow_x": null,
            "overflow_y": null,
            "padding": null,
            "right": null,
            "top": null,
            "visibility": null,
            "width": null
          }
        },
        "8733770e78d245bfb9209a23dd0bc05b": {
          "model_module": "@jupyter-widgets/controls",
          "model_name": "DescriptionStyleModel",
          "model_module_version": "1.5.0",
          "state": {
            "_model_module": "@jupyter-widgets/controls",
            "_model_module_version": "1.5.0",
            "_model_name": "DescriptionStyleModel",
            "_view_count": null,
            "_view_module": "@jupyter-widgets/base",
            "_view_module_version": "1.2.0",
            "_view_name": "StyleView",
            "description_width": ""
          }
        },
        "8dc0fe59fdd54e019ce35cf950e8a193": {
          "model_module": "@jupyter-widgets/controls",
          "model_name": "HBoxModel",
          "model_module_version": "1.5.0",
          "state": {
            "_dom_classes": [],
            "_model_module": "@jupyter-widgets/controls",
            "_model_module_version": "1.5.0",
            "_model_name": "HBoxModel",
            "_view_count": null,
            "_view_module": "@jupyter-widgets/controls",
            "_view_module_version": "1.5.0",
            "_view_name": "HBoxView",
            "box_style": "",
            "children": [
              "IPY_MODEL_d855012c73ec472596be4a35fd4f7f07",
              "IPY_MODEL_e0d94a63ecc842159450a9a0f373a11b",
              "IPY_MODEL_6b0b3fa514774d108799a336d24bf5d0"
            ],
            "layout": "IPY_MODEL_e02dcb643ce24920a79c42b7f0c7c6f7"
          }
        },
        "d855012c73ec472596be4a35fd4f7f07": {
          "model_module": "@jupyter-widgets/controls",
          "model_name": "HTMLModel",
          "model_module_version": "1.5.0",
          "state": {
            "_dom_classes": [],
            "_model_module": "@jupyter-widgets/controls",
            "_model_module_version": "1.5.0",
            "_model_name": "HTMLModel",
            "_view_count": null,
            "_view_module": "@jupyter-widgets/controls",
            "_view_module_version": "1.5.0",
            "_view_name": "HTMLView",
            "description": "",
            "description_tooltip": null,
            "layout": "IPY_MODEL_1f0b4936f30c4e6d8da04725d6234d37",
            "placeholder": "​",
            "style": "IPY_MODEL_4a598957cf984d4d9ca330f08390460b",
            "value": "model.safetensors: 100%"
          }
        },
        "e0d94a63ecc842159450a9a0f373a11b": {
          "model_module": "@jupyter-widgets/controls",
          "model_name": "FloatProgressModel",
          "model_module_version": "1.5.0",
          "state": {
            "_dom_classes": [],
            "_model_module": "@jupyter-widgets/controls",
            "_model_module_version": "1.5.0",
            "_model_name": "FloatProgressModel",
            "_view_count": null,
            "_view_module": "@jupyter-widgets/controls",
            "_view_module_version": "1.5.0",
            "_view_name": "ProgressView",
            "bar_style": "success",
            "description": "",
            "description_tooltip": null,
            "layout": "IPY_MODEL_f0d0f0c91ed448f0ba7474db1e9be1c7",
            "max": 440449768,
            "min": 0,
            "orientation": "horizontal",
            "style": "IPY_MODEL_19b7cf7aa122449c9ddd036b6ed0b12e",
            "value": 440449768
          }
        },
        "6b0b3fa514774d108799a336d24bf5d0": {
          "model_module": "@jupyter-widgets/controls",
          "model_name": "HTMLModel",
          "model_module_version": "1.5.0",
          "state": {
            "_dom_classes": [],
            "_model_module": "@jupyter-widgets/controls",
            "_model_module_version": "1.5.0",
            "_model_name": "HTMLModel",
            "_view_count": null,
            "_view_module": "@jupyter-widgets/controls",
            "_view_module_version": "1.5.0",
            "_view_name": "HTMLView",
            "description": "",
            "description_tooltip": null,
            "layout": "IPY_MODEL_18c7d3cbbfd54479a0fa9f2195e5cf2d",
            "placeholder": "​",
            "style": "IPY_MODEL_d78b13c6bf4149e288aa10a00be9fd37",
            "value": " 440M/440M [00:03&lt;00:00, 136MB/s]"
          }
        },
        "e02dcb643ce24920a79c42b7f0c7c6f7": {
          "model_module": "@jupyter-widgets/base",
          "model_name": "LayoutModel",
          "model_module_version": "1.2.0",
          "state": {
            "_model_module": "@jupyter-widgets/base",
            "_model_module_version": "1.2.0",
            "_model_name": "LayoutModel",
            "_view_count": null,
            "_view_module": "@jupyter-widgets/base",
            "_view_module_version": "1.2.0",
            "_view_name": "LayoutView",
            "align_content": null,
            "align_items": null,
            "align_self": null,
            "border": null,
            "bottom": null,
            "display": null,
            "flex": null,
            "flex_flow": null,
            "grid_area": null,
            "grid_auto_columns": null,
            "grid_auto_flow": null,
            "grid_auto_rows": null,
            "grid_column": null,
            "grid_gap": null,
            "grid_row": null,
            "grid_template_areas": null,
            "grid_template_columns": null,
            "grid_template_rows": null,
            "height": null,
            "justify_content": null,
            "justify_items": null,
            "left": null,
            "margin": null,
            "max_height": null,
            "max_width": null,
            "min_height": null,
            "min_width": null,
            "object_fit": null,
            "object_position": null,
            "order": null,
            "overflow": null,
            "overflow_x": null,
            "overflow_y": null,
            "padding": null,
            "right": null,
            "top": null,
            "visibility": null,
            "width": null
          }
        },
        "1f0b4936f30c4e6d8da04725d6234d37": {
          "model_module": "@jupyter-widgets/base",
          "model_name": "LayoutModel",
          "model_module_version": "1.2.0",
          "state": {
            "_model_module": "@jupyter-widgets/base",
            "_model_module_version": "1.2.0",
            "_model_name": "LayoutModel",
            "_view_count": null,
            "_view_module": "@jupyter-widgets/base",
            "_view_module_version": "1.2.0",
            "_view_name": "LayoutView",
            "align_content": null,
            "align_items": null,
            "align_self": null,
            "border": null,
            "bottom": null,
            "display": null,
            "flex": null,
            "flex_flow": null,
            "grid_area": null,
            "grid_auto_columns": null,
            "grid_auto_flow": null,
            "grid_auto_rows": null,
            "grid_column": null,
            "grid_gap": null,
            "grid_row": null,
            "grid_template_areas": null,
            "grid_template_columns": null,
            "grid_template_rows": null,
            "height": null,
            "justify_content": null,
            "justify_items": null,
            "left": null,
            "margin": null,
            "max_height": null,
            "max_width": null,
            "min_height": null,
            "min_width": null,
            "object_fit": null,
            "object_position": null,
            "order": null,
            "overflow": null,
            "overflow_x": null,
            "overflow_y": null,
            "padding": null,
            "right": null,
            "top": null,
            "visibility": null,
            "width": null
          }
        },
        "4a598957cf984d4d9ca330f08390460b": {
          "model_module": "@jupyter-widgets/controls",
          "model_name": "DescriptionStyleModel",
          "model_module_version": "1.5.0",
          "state": {
            "_model_module": "@jupyter-widgets/controls",
            "_model_module_version": "1.5.0",
            "_model_name": "DescriptionStyleModel",
            "_view_count": null,
            "_view_module": "@jupyter-widgets/base",
            "_view_module_version": "1.2.0",
            "_view_name": "StyleView",
            "description_width": ""
          }
        },
        "f0d0f0c91ed448f0ba7474db1e9be1c7": {
          "model_module": "@jupyter-widgets/base",
          "model_name": "LayoutModel",
          "model_module_version": "1.2.0",
          "state": {
            "_model_module": "@jupyter-widgets/base",
            "_model_module_version": "1.2.0",
            "_model_name": "LayoutModel",
            "_view_count": null,
            "_view_module": "@jupyter-widgets/base",
            "_view_module_version": "1.2.0",
            "_view_name": "LayoutView",
            "align_content": null,
            "align_items": null,
            "align_self": null,
            "border": null,
            "bottom": null,
            "display": null,
            "flex": null,
            "flex_flow": null,
            "grid_area": null,
            "grid_auto_columns": null,
            "grid_auto_flow": null,
            "grid_auto_rows": null,
            "grid_column": null,
            "grid_gap": null,
            "grid_row": null,
            "grid_template_areas": null,
            "grid_template_columns": null,
            "grid_template_rows": null,
            "height": null,
            "justify_content": null,
            "justify_items": null,
            "left": null,
            "margin": null,
            "max_height": null,
            "max_width": null,
            "min_height": null,
            "min_width": null,
            "object_fit": null,
            "object_position": null,
            "order": null,
            "overflow": null,
            "overflow_x": null,
            "overflow_y": null,
            "padding": null,
            "right": null,
            "top": null,
            "visibility": null,
            "width": null
          }
        },
        "19b7cf7aa122449c9ddd036b6ed0b12e": {
          "model_module": "@jupyter-widgets/controls",
          "model_name": "ProgressStyleModel",
          "model_module_version": "1.5.0",
          "state": {
            "_model_module": "@jupyter-widgets/controls",
            "_model_module_version": "1.5.0",
            "_model_name": "ProgressStyleModel",
            "_view_count": null,
            "_view_module": "@jupyter-widgets/base",
            "_view_module_version": "1.2.0",
            "_view_name": "StyleView",
            "bar_color": null,
            "description_width": ""
          }
        },
        "18c7d3cbbfd54479a0fa9f2195e5cf2d": {
          "model_module": "@jupyter-widgets/base",
          "model_name": "LayoutModel",
          "model_module_version": "1.2.0",
          "state": {
            "_model_module": "@jupyter-widgets/base",
            "_model_module_version": "1.2.0",
            "_model_name": "LayoutModel",
            "_view_count": null,
            "_view_module": "@jupyter-widgets/base",
            "_view_module_version": "1.2.0",
            "_view_name": "LayoutView",
            "align_content": null,
            "align_items": null,
            "align_self": null,
            "border": null,
            "bottom": null,
            "display": null,
            "flex": null,
            "flex_flow": null,
            "grid_area": null,
            "grid_auto_columns": null,
            "grid_auto_flow": null,
            "grid_auto_rows": null,
            "grid_column": null,
            "grid_gap": null,
            "grid_row": null,
            "grid_template_areas": null,
            "grid_template_columns": null,
            "grid_template_rows": null,
            "height": null,
            "justify_content": null,
            "justify_items": null,
            "left": null,
            "margin": null,
            "max_height": null,
            "max_width": null,
            "min_height": null,
            "min_width": null,
            "object_fit": null,
            "object_position": null,
            "order": null,
            "overflow": null,
            "overflow_x": null,
            "overflow_y": null,
            "padding": null,
            "right": null,
            "top": null,
            "visibility": null,
            "width": null
          }
        },
        "d78b13c6bf4149e288aa10a00be9fd37": {
          "model_module": "@jupyter-widgets/controls",
          "model_name": "DescriptionStyleModel",
          "model_module_version": "1.5.0",
          "state": {
            "_model_module": "@jupyter-widgets/controls",
            "_model_module_version": "1.5.0",
            "_model_name": "DescriptionStyleModel",
            "_view_count": null,
            "_view_module": "@jupyter-widgets/base",
            "_view_module_version": "1.2.0",
            "_view_name": "StyleView",
            "description_width": ""
          }
        }
      }
    }
  },
  "cells": [
    {
      "cell_type": "markdown",
      "metadata": {
        "id": "view-in-github",
        "colab_type": "text"
      },
      "source": [
        "<a href=\"https://colab.research.google.com/github/gonzaq94/NER-LLM-classification/blob/main/fine_tune_BERT_doc_level_and_NER_annots.ipynb\" target=\"_parent\"><img src=\"https://colab.research.google.com/assets/colab-badge.svg\" alt=\"Open In Colab\"/></a>"
      ]
    },
    {
      "cell_type": "code",
      "execution_count": null,
      "metadata": {
        "id": "vfLms2TWYnow"
      },
      "outputs": [],
      "source": []
    },
    {
      "cell_type": "code",
      "source": [
        "from google.colab import drive\n",
        "drive.mount('/content/drive')"
      ],
      "metadata": {
        "colab": {
          "base_uri": "https://localhost:8080/"
        },
        "id": "zPxYOY1wYrmQ",
        "outputId": "9396ea8c-7e4f-4d5e-8a30-c1a686866532"
      },
      "execution_count": null,
      "outputs": [
        {
          "output_type": "stream",
          "name": "stdout",
          "text": [
            "Mounted at /content/drive\n"
          ]
        }
      ]
    },
    {
      "cell_type": "code",
      "source": [
        "import comet_ml\n",
        "import comet_llm\n",
        "import os\n",
        "import gdown\n",
        "from datasets import load_dataset, concatenate_datasets\n",
        "import random\n",
        "from transformers import AutoTokenizer, AutoModelForSequenceClassification, Trainer, TrainingArguments, TrainerCallback\n",
        "from torch.utils.data import Dataset, DataLoader\n",
        "import torch\n",
        "from sklearn.metrics import precision_recall_fscore_support, accuracy_score, confusion_matrix, ConfusionMatrixDisplay\n",
        "import matplotlib.pyplot as plt\n",
        "#from openai import OpenAI\n",
        "import seaborn as sns\n",
        "import numpy as np\n",
        "from torch.nn import CrossEntropyLoss, MSELoss"
      ],
      "metadata": {
        "id": "aGcKHyewYzcq"
      },
      "execution_count": null,
      "outputs": []
    },
    {
      "cell_type": "markdown",
      "source": [
        "# Data preparation"
      ],
      "metadata": {
        "id": "Scx1gDBH99Uc"
      }
    },
    {
      "cell_type": "markdown",
      "source": [
        "### Doc-labels-balanced data\n"
      ],
      "metadata": {
        "id": "zWgNZvtEvJpW"
      }
    },
    {
      "cell_type": "code",
      "source": [
        "from datasets import load_from_disk\n",
        "\n",
        "loaded_train_dataset = load_from_disk(\"/content/drive/MyDrive/Colab Notebooks/conll2003_train_augmented_1k_strat\")\n",
        "loaded_valid_dataset = load_from_disk(\"/content/drive/MyDrive/Colab Notebooks/conll2003_valid_augmented_1k_strat\")\n",
        "loaded_test_dataset = load_from_disk(\"/content/drive/MyDrive/Colab Notebooks/conll2003_test_augmented\")"
      ],
      "metadata": {
        "id": "Yy9gFeRj9_kZ"
      },
      "execution_count": null,
      "outputs": []
    },
    {
      "cell_type": "code",
      "source": [
        "from collections import Counter\n",
        "from itertools import chain\n",
        "\n",
        "# train set\n",
        "plt.subplot(3,1,1)\n",
        "histogram = Counter(list(chain.from_iterable(loaded_train_dataset['ner_tags'])))\n",
        "sorted_histogram = dict(sorted(histogram.items(), key=lambda item: item[0], reverse=False))\n",
        "plt.bar(sorted_histogram.keys(), sorted_histogram.values())\n",
        "plt.xlabel(\"NER tags\")\n",
        "plt.ylabel(\"Count\")\n",
        "plt.yscale(\"log\")\n",
        "plt.title(\"Training set\")\n",
        "\n",
        "# train set\n",
        "plt.subplot(3,1,2)\n",
        "histogram = Counter(list(chain.from_iterable(loaded_valid_dataset['ner_tags'])))\n",
        "sorted_histogram = dict(sorted(histogram.items(), key=lambda item: item[0], reverse=False))\n",
        "plt.bar(sorted_histogram.keys(), sorted_histogram.values())\n",
        "plt.xlabel(\"NER tags\")\n",
        "plt.ylabel(\"Count\")\n",
        "plt.yscale(\"log\")\n",
        "plt.title(\"Valid set\")\n",
        "\n",
        "# train set\n",
        "plt.subplot(3,1,3)\n",
        "histogram = Counter(list(chain.from_iterable(loaded_test_dataset['ner_tags'])))\n",
        "sorted_histogram = dict(sorted(histogram.items(), key=lambda item: item[0], reverse=False))\n",
        "plt.bar(sorted_histogram.keys(), sorted_histogram.values())\n",
        "plt.xlabel(\"NER tags\")\n",
        "plt.ylabel(\"Count\")\n",
        "plt.yscale(\"log\")\n",
        "plt.title(\"Test set\")\n",
        "\n",
        "plt.tight_layout()\n",
        "plt.show()"
      ],
      "metadata": {
        "colab": {
          "base_uri": "https://localhost:8080/",
          "height": 486
        },
        "id": "Rrvcv6WSxKag",
        "outputId": "48a3c0ee-fe47-49c2-a1e5-d5477c38fa9e"
      },
      "execution_count": null,
      "outputs": [
        {
          "output_type": "display_data",
          "data": {
            "text/plain": [
              "<Figure size 640x480 with 3 Axes>"
            ],
            "image/png": "[encoded data removed]"
          },
          "metadata": {}
        }
      ]
    },
    {
      "cell_type": "code",
      "source": [
        "from collections import Counter\n",
        "\n",
        "# train set\n",
        "plt.subplot(3,1,1)\n",
        "histogram = Counter(loaded_train_dataset['doc_labels'])\n",
        "sorted_histogram = dict(sorted(histogram.items(), key=lambda item: item[0], reverse=False))\n",
        "plt.bar(sorted_histogram.keys(), sorted_histogram.values())\n",
        "plt.xlabel(\"Doc labels\")\n",
        "plt.ylabel(\"Count\")\n",
        "plt.yscale(\"log\")\n",
        "plt.title(\"Training set\")\n",
        "\n",
        "# train set\n",
        "plt.subplot(3,1,2)\n",
        "histogram = Counter(loaded_valid_dataset['doc_labels'])\n",
        "sorted_histogram = dict(sorted(histogram.items(), key=lambda item: item[0], reverse=False))\n",
        "plt.bar(sorted_histogram.keys(), sorted_histogram.values())\n",
        "plt.xlabel(\"Doc labels\")\n",
        "plt.ylabel(\"Count\")\n",
        "plt.yscale(\"log\")\n",
        "plt.title(\"Valid set\")\n",
        "\n",
        "# train set\n",
        "plt.subplot(3,1,3)\n",
        "histogram = Counter(loaded_test_dataset['doc_labels'])\n",
        "sorted_histogram = dict(sorted(histogram.items(), key=lambda item: item[0], reverse=False))\n",
        "plt.bar(sorted_histogram.keys(), sorted_histogram.values())\n",
        "plt.xlabel(\"Doc labels\")\n",
        "plt.ylabel(\"Count\")\n",
        "plt.yscale(\"log\")\n",
        "plt.title(\"Test set\")\n",
        "\n",
        "plt.tight_layout()\n",
        "plt.show()"
      ],
      "metadata": {
        "colab": {
          "base_uri": "https://localhost:8080/",
          "height": 486
        },
        "id": "gEUTBXEyzh9h",
        "outputId": "16fc0955-2a43-4eff-ecdd-e595aab54130"
      },
      "execution_count": null,
      "outputs": [
        {
          "output_type": "display_data",
          "data": {
            "text/plain": [
              "<Figure size 640x480 with 3 Axes>"
            ],
            "image/png": "[encoded data removed]"
          },
          "metadata": {}
        }
      ]
    },
    {
      "cell_type": "markdown",
      "source": [
        "# Dataset creation"
      ],
      "metadata": {
        "id": "5VqrV0AAvVLb"
      }
    },
    {
      "cell_type": "code",
      "source": [
        "# log results and assets to Comet\n",
        "os.environ[\"COMET_LOG_ASSETS\"] = \"True\"\n",
        "os.environ[\"COMET_WORKSPACE\"] = \"gonzaq94\"\n",
        "os.environ[\"COMET_PROJECT_NAME\"] = \"ner_classif-bert-doc_level_and_NER_annots-strat_data-v2\""
      ],
      "metadata": {
        "id": "7QBoCOIN-IlH"
      },
      "execution_count": null,
      "outputs": []
    },
    {
      "cell_type": "code",
      "source": [
        "model_name = 'bert-base-uncased'\n",
        "tokenizer = AutoTokenizer.from_pretrained(model_name)\n",
        "\n",
        "class SeqTokenDataset(Dataset):\n",
        "    def __init__(self, texts, token_labels, sequence_labels, tokenizer, max_length):\n",
        "        self.texts = texts\n",
        "        self.token_labels = token_labels\n",
        "        self.sequence_labels = sequence_labels\n",
        "        self.tokenizer = tokenizer\n",
        "        self.max_length = max_length\n",
        "\n",
        "    def __len__(self):\n",
        "        return len(self.texts)\n",
        "\n",
        "    def __getitem__(self, idx):\n",
        "        text = self.texts[idx]\n",
        "        token_labels = self.token_labels[idx]\n",
        "        sequence_labels = self.sequence_labels[idx]\n",
        "\n",
        "        tokens = []\n",
        "        labels_per_token = []\n",
        "        attention_masks = []\n",
        "\n",
        "        # first add the CLS special token\n",
        "        tokens.append(self.tokenizer.cls_token_id)\n",
        "        labels_per_token.append(-100)\n",
        "        attention_masks.append(1)\n",
        "\n",
        "        # tokenize each word independantly\n",
        "        for word, label in zip(text, token_labels):\n",
        "          # Tokenize each word\n",
        "          word_encoding = self.tokenizer(\n",
        "              word,\n",
        "              add_special_tokens=False,\n",
        "              max_length=self.max_length,\n",
        "              truncation=True,\n",
        "              return_tensors=\"pt\"\n",
        "          )\n",
        "\n",
        "          tokens.extend(word_encoding['input_ids'][0].tolist())\n",
        "          attention_masks.extend(word_encoding['attention_mask'][0].tolist())\n",
        "          labels_per_token.extend([label] * len(word_encoding['input_ids'][0]))\n",
        "\n",
        "        # finally, add the SEP special token\n",
        "        tokens.append(self.tokenizer.sep_token_id)\n",
        "        labels_per_token.append(-100)\n",
        "        attention_masks.append(1)\n",
        "\n",
        "        # add padding\n",
        "        padding_len = self.max_length - len(tokens)\n",
        "        tokens += [0] * padding_len\n",
        "        attention_masks += [0] * padding_len\n",
        "        labels_per_token += [-100] * padding_len\n",
        "\n",
        "        return {\n",
        "            'input_ids': torch.tensor(tokens).flatten(),\n",
        "            'attention_mask': torch.tensor(attention_masks).flatten(),\n",
        "            'token_labels': torch.tensor(labels_per_token).flatten(),\n",
        "            'sequence_labels': torch.tensor(sequence_labels).flatten()\n",
        "        }"
      ],
      "metadata": {
        "id": "IBHr5FPeVjf_",
        "colab": {
          "base_uri": "https://localhost:8080/",
          "height": 304,
          "referenced_widgets": [
            "b90de597bec3491b869e9acf88ad771e",
            "6e69335b7d1446a5b6511d2f4041f0ef",
            "12c234e8d89643b09f4b9c03512980a9",
            "5b41e96fa1704742963934b9b2e8cbef",
            "2091eae0ebc54a85b951c73aaa2cdd02",
            "dd8168f7ad7b4c2fa66968e67ef9adb5",
            "355d98b57e2442c7b856e108045d70a1",
            "9e26c315eba046da9d296d0755f53fce",
            "a8a579b70ce542de98dc0213aed899ea",
            "08effb20a92d46d6b9cecbab5de22589",
            "4093a10bfb5e4a52a07efeb40e3cd58f",
            "7013702b3caf422ab1e747793f124a74",
            "5ea7df48a75a4f2bbc4cd88013ca18ce",
            "b7c3732adf5442c895f185ea4ed679d7",
            "7f95286f1f434053939f8f3679719220",
            "6addd2d061e144199d21bc403b0cce39",
            "d07a5562cc6c48388c681029b1fedb93",
            "3f5590e402a04205840ebaeb93117264",
            "a446e6a449fb4a3b9a6166be80cdb55c",
            "2e145ee660c4488bbaaea1eddb238878",
            "64867f588d0e4cf9b0e282cff48cb40c",
            "5055c583bd964c249d931e1449c32f09",
            "d3c2727f0a7c4602a21ae2bf50c6c7aa",
            "6159cd28d7cc41faa885bb066f8ecaaf",
            "c01aec9456de4f2ab9f3a4d357233b47",
            "4218687640594ba6a62fb08f615b2879",
            "921fd66e30d547d781a96e1967007854",
            "c64f166a0f8e4098b4ba55e770fac86d",
            "840c8150528c4b6f96f6361a7bbd24a9",
            "38f73cdedef0439dba22c3fa5863543e",
            "d80d2a6d02f8462f80799f3ead98a996",
            "5ef3bfd35fdb4c89bd9155a25419c0f5",
            "31c60128bddd429bab6838c429d79902",
            "6bb6aa141448405898206db97c7a43b6",
            "d810da43cbfa455da350539f25be8625",
            "b569c3dbb36048c7a445f684447f42c3",
            "9df918cb522f49a69eba4aacfe58e519",
            "897432447a1b4141b93581c99f2cdce8",
            "7596d72b30d54a00b3efc9fe68e1e1c6",
            "7d8cbbe7b1b149278630e6ae5c981808",
            "95d5a65bab004a8a84c356bb5073a419",
            "47416e51a30848ab9e53a84087f7ecaa",
            "dfea6e5c2e9e4b46842048eb82ba41ac",
            "8733770e78d245bfb9209a23dd0bc05b"
          ]
        },
        "outputId": "aa32df7f-0c65-4f16-ea8a-2f45d0118e2e"
      },
      "execution_count": null,
      "outputs": [
        {
          "output_type": "stream",
          "name": "stderr",
          "text": [
            "/usr/local/lib/python3.10/dist-packages/huggingface_hub/utils/_token.py:89: UserWarning: \n",
            "The secret `HF_TOKEN` does not exist in your Colab secrets.\n",
            "To authenticate with the Hugging Face Hub, create a token in your settings tab (https://huggingface.co/settings/tokens), set it as secret in your Google Colab and restart your session.\n",
            "You will be able to reuse this secret in all of your notebooks.\n",
            "Please note that authentication is recommended but still optional to access public models or datasets.\n",
            "  warnings.warn(\n"
          ]
        },
        {
          "output_type": "display_data",
          "data": {
            "text/plain": [
              "tokenizer_config.json:   0%|          | 0.00/48.0 [00:00<?, ?B/s]"
            ],
            "application/vnd.jupyter.widget-view+json": {
              "version_major": 2,
              "version_minor": 0,
              "model_id": "b90de597bec3491b869e9acf88ad771e"
            }
          },
          "metadata": {}
        },
        {
          "output_type": "display_data",
          "data": {
            "text/plain": [
              "config.json:   0%|          | 0.00/570 [00:00<?, ?B/s]"
            ],
            "application/vnd.jupyter.widget-view+json": {
              "version_major": 2,
              "version_minor": 0,
              "model_id": "7013702b3caf422ab1e747793f124a74"
            }
          },
          "metadata": {}
        },
        {
          "output_type": "display_data",
          "data": {
            "text/plain": [
              "vocab.txt:   0%|          | 0.00/232k [00:00<?, ?B/s]"
            ],
            "application/vnd.jupyter.widget-view+json": {
              "version_major": 2,
              "version_minor": 0,
              "model_id": "d3c2727f0a7c4602a21ae2bf50c6c7aa"
            }
          },
          "metadata": {}
        },
        {
          "output_type": "display_data",
          "data": {
            "text/plain": [
              "tokenizer.json:   0%|          | 0.00/466k [00:00<?, ?B/s]"
            ],
            "application/vnd.jupyter.widget-view+json": {
              "version_major": 2,
              "version_minor": 0,
              "model_id": "6bb6aa141448405898206db97c7a43b6"
            }
          },
          "metadata": {}
        },
        {
          "output_type": "stream",
          "name": "stderr",
          "text": [
            "/usr/local/lib/python3.10/dist-packages/transformers/tokenization_utils_base.py:1601: FutureWarning: `clean_up_tokenization_spaces` was not set. It will be set to `True` by default. This behavior will be depracted in transformers v4.45, and will be then set to `False` by default. For more details check this issue: https://github.com/huggingface/transformers/issues/31884\n",
            "  warnings.warn(\n"
          ]
        }
      ]
    },
    {
      "cell_type": "code",
      "source": [
        "train_custom_dataset = SeqTokenDataset(\n",
        "    texts=loaded_train_dataset['tokens'],\n",
        "    token_labels=loaded_train_dataset['ner_tags'],\n",
        "    sequence_labels=loaded_train_dataset['doc_labels'],\n",
        "    tokenizer=tokenizer,\n",
        "    max_length=256\n",
        ")\n",
        "\n",
        "valid_custom_dataset = SeqTokenDataset(\n",
        "    texts=loaded_valid_dataset['tokens'],\n",
        "    token_labels=loaded_valid_dataset['ner_tags'],\n",
        "    sequence_labels=loaded_valid_dataset['doc_labels'],\n",
        "    tokenizer=tokenizer,\n",
        "    max_length=256\n",
        ")\n",
        "\n",
        "test_custom_dataset = SeqTokenDataset(\n",
        "    texts=loaded_test_dataset['tokens'],\n",
        "    token_labels=loaded_test_dataset['ner_tags'],\n",
        "    sequence_labels=loaded_test_dataset['doc_labels'],\n",
        "    tokenizer=tokenizer,\n",
        "    max_length=256\n",
        ")"
      ],
      "metadata": {
        "id": "iYvCfYdXvDap"
      },
      "execution_count": null,
      "outputs": []
    },
    {
      "cell_type": "markdown",
      "source": [
        "# Define Sequence and token classification model"
      ],
      "metadata": {
        "id": "KrjQd4LeAtvW"
      }
    },
    {
      "cell_type": "code",
      "source": [
        "from transformers import BertPreTrainedModel, BertModel, BertConfig\n",
        "import torch.nn as nn\n",
        "from safetensors.torch import load_file\n",
        "\n",
        "class CustomBertConfig(BertConfig):\n",
        "    def __init__(self, num_token_labels = 10, num_sequence_labels = 2, seq_loss_weight = 1, **kwargs):\n",
        "        super().__init__(**kwargs)\n",
        "        self.num_token_labels = num_token_labels\n",
        "        self.num_sequence_labels = num_sequence_labels\n",
        "        self.seq_loss_weight = seq_loss_weight\n",
        "\n",
        "class BertForSequenceAndTokenClassification(BertPreTrainedModel):\n",
        "    def __init__(self, config):\n",
        "        super().__init__(config)\n",
        "        self.num_labels_sequence = config.num_sequence_labels\n",
        "        self.num_labels_token = config.num_token_labels\n",
        "        self.seq_loss_weight = config.seq_loss_weight\n",
        "\n",
        "        self.bert = BertModel(config)\n",
        "        self.dropout = nn.Dropout(config.hidden_dropout_prob)\n",
        "        self.token_classifier = nn.Linear(config.hidden_size, self.num_labels_token)\n",
        "        self.sequence_classifier = nn.Linear(config.hidden_size, self.num_labels_sequence)\n",
        "\n",
        "        self.init_weights()\n",
        "\n",
        "    def forward(\n",
        "        self,\n",
        "        input_ids=None,\n",
        "        attention_mask=None,\n",
        "        token_type_ids=None,\n",
        "        position_ids=None,\n",
        "        head_mask=None,\n",
        "        inputs_embeds=None,\n",
        "        token_labels=None,\n",
        "        sequence_labels=None,\n",
        "        output_attentions=None,\n",
        "        output_hidden_states=None,\n",
        "    ):\n",
        "\n",
        "        outputs = self.bert(\n",
        "            input_ids,\n",
        "            attention_mask=attention_mask,\n",
        "            token_type_ids=token_type_ids,\n",
        "            position_ids=position_ids,\n",
        "            head_mask=head_mask,\n",
        "            inputs_embeds=inputs_embeds,\n",
        "            output_attentions=output_attentions,\n",
        "            output_hidden_states=output_hidden_states,\n",
        "        )\n",
        "\n",
        "        # token classification\n",
        "        token_representation = self.dropout(outputs.last_hidden_state)\n",
        "        token_logits = self.token_classifier(token_representation)\n",
        "\n",
        "        # sequence classification\n",
        "        sequence_representation = self.dropout(outputs.pooler_output)\n",
        "        sequence_logits = self.sequence_classifier(sequence_representation)\n",
        "\n",
        "        outputs = (token_logits,) + (sequence_logits,) + outputs[2:]  # add hidden states and attention if they are here\n",
        "\n",
        "        # token loss\n",
        "        if token_labels is not None or sequence_labels is not None:\n",
        "          if token_labels is not None:\n",
        "              loss_fct = CrossEntropyLoss()\n",
        "\n",
        "              if attention_mask is not None:\n",
        "                  active_token_loss = (attention_mask.view(-1) == 1) & (token_labels.view(-1) != -100)\n",
        "                  active_token_logits = token_logits.view(-1, self.num_labels_token)\n",
        "                  active_labels_token = torch.where(\n",
        "                      active_token_loss, token_labels.view(-1), torch.tensor(loss_fct.ignore_index).type_as(token_labels)\n",
        "                  )\n",
        "                  token_loss = loss_fct(active_token_logits, active_labels_token)\n",
        "              else:\n",
        "                  token_loss = loss_fct(token_logits.view(-1, self.num_labels_token), token_labels.view(-1))\n",
        "          else:\n",
        "            token_loss = 0.0\n",
        "\n",
        "          # sequence loss\n",
        "          if sequence_labels is not None:\n",
        "            if self.num_labels_sequence == 1:\n",
        "                #  We are doing regression\n",
        "                loss_fct = MSELoss()\n",
        "                sequence_loss = loss_fct(sequence_logits.view(-1), sequence_labels.view(-1))\n",
        "            else:\n",
        "                loss_fct = CrossEntropyLoss()\n",
        "                sequence_loss = loss_fct(sequence_logits.view(-1, self.num_labels_sequence), sequence_labels.view(-1))\n",
        "          else:\n",
        "            sequence_loss = 0.0\n",
        "\n",
        "          total_loss = (1 - self.seq_loss_weight) * token_loss + self.seq_loss_weight * sequence_loss\n",
        "\n",
        "          outputs = (total_loss,) + outputs\n",
        "\n",
        "        return outputs  # (loss), token_logits, sequence_logits, (hidden_states), (attentions)\n",
        "\n",
        "    @classmethod\n",
        "    def from_pretrained(cls, pretrained_model_name_or_path, num_token_labels, num_sequence_labels, seq_loss_weight=1, only_init_bert=True, *args, **kwargs):\n",
        "\n",
        "        # load config\n",
        "        config = CustomBertConfig.from_pretrained(pretrained_model_name_or_path, *args, **kwargs)\n",
        "        config.num_token_labels = num_token_labels\n",
        "        config.num_sequence_labels = num_sequence_labels\n",
        "        config.seq_loss_weight = seq_loss_weight\n",
        "\n",
        "        # create model instance\n",
        "        model = cls(config)\n",
        "\n",
        "        # load BERT pre-trained weights\n",
        "        if only_init_bert:\n",
        "          model.bert = BertModel.from_pretrained(pretrained_model_name_or_path)\n",
        "        else:\n",
        "          # Load the model weights from a .safetensors file\n",
        "          model_weights = load_file(pretrained_model_name_or_path + \"/model.safetensors\")\n",
        "          model.load_state_dict(model_weights, strict=False)\n",
        "\n",
        "\n",
        "        return model\n",
        "\n"
      ],
      "metadata": {
        "id": "Lli7KYb4Ax3G"
      },
      "execution_count": null,
      "outputs": []
    },
    {
      "cell_type": "code",
      "source": [
        "def compute_metrics(p):\n",
        "\n",
        "    predictions, labels = p\n",
        "    ner_predictions, doc_predictions = predictions\n",
        "    ner_labels, doc_labels = labels\n",
        "\n",
        "    # NER metrics\n",
        "    ner_predictions = ner_predictions.argmax(-1)  # Get the predicted class indices\n",
        "    true_ner_predictions = [p for (p, l) in zip(ner_predictions.flatten(), ner_labels.flatten()) if l != -100]\n",
        "    true_ner_labels = [l for l in ner_labels.flatten() if l != -100]\n",
        "\n",
        "    ner_precision, ner_recall, ner_f1, _ = precision_recall_fscore_support(true_ner_labels, true_ner_predictions, average='weighted', zero_division=1 )\n",
        "    ner_acc = accuracy_score(true_ner_labels, true_ner_predictions)\n",
        "\n",
        "    # doc-level metrics\n",
        "    doc_predictions = doc_predictions.argmax(-1)  # Get the predicted class indices\n",
        "    doc_precision, doc_recall, doc_f1, _ = precision_recall_fscore_support(doc_labels, doc_predictions, average='weighted', zero_division=1 )\n",
        "    doc_acc = accuracy_score(doc_labels, doc_predictions)\n",
        "\n",
        "    return {\n",
        "        'ner_accuracy': ner_acc,\n",
        "        'ner_f1': ner_f1,\n",
        "        'ner_precision': ner_precision,\n",
        "        'ner_recall': ner_recall,\n",
        "        'doc_accuracy': doc_acc,\n",
        "        'doc_f1': doc_f1,\n",
        "        'doc_precision': doc_precision,\n",
        "        'doc_recall': doc_recall,\n",
        "        'f1': (doc_f1 + ner_f1) / 2,\n",
        "    }"
      ],
      "metadata": {
        "id": "V4_dj9hV-mnt"
      },
      "execution_count": null,
      "outputs": []
    },
    {
      "cell_type": "code",
      "source": [
        "class_freqs = torch.tensor(np.histogram(loaded_train_dataset['doc_labels'], bins=5)[0]).to(\"cpu\")\n",
        "class_weights = 1.0 / class_freqs\n",
        "class_weights = class_weights / class_weights.sum()\n",
        "print(class_weights, class_freqs)"
      ],
      "metadata": {
        "colab": {
          "base_uri": "https://localhost:8080/"
        },
        "id": "W0TupMG5H1lK",
        "outputId": "c98599fe-514a-4657-8422-09503c05acad"
      },
      "execution_count": null,
      "outputs": [
        {
          "output_type": "stream",
          "name": "stdout",
          "text": [
            "tensor([0.1638, 0.0662, 0.1502, 0.5709, 0.0490]) tensor([122, 302, 133,  35, 408])\n"
          ]
        }
      ]
    },
    {
      "cell_type": "code",
      "source": [
        "from torch.utils.data import DataLoader, WeightedRandomSampler\n",
        "\n",
        "# weighted loss\n",
        "class WeightedTrainer(Trainer):\n",
        "  def compute_loss(self, model, inputs, num_items_in_batch=None, return_outputs=False):\n",
        "      labels = inputs.get(\"labels\")\n",
        "      outputs = model(**inputs)\n",
        "      logits = outputs.get(\"logits\")\n",
        "\n",
        "      loss_fct = CrossEntropyLoss(weight=class_weights)\n",
        "      loss = loss_fct(logits.view(-1, len(class_weights)), labels.view(-1))\n",
        "\n",
        "      return (loss, outputs) if return_outputs else loss\n",
        "\n",
        "\n",
        "# weighted data loader\n",
        "sampler = WeightedRandomSampler(weights=class_weights, num_samples=len(class_weights), replacement=True)\n",
        "\n",
        "def torch_weighted_data_collator(features):\n",
        "\n",
        "    # Sample features with weights according to their label\n",
        "    labels = [f[\"sequence_labels\"] for f in features]\n",
        "    weights = [class_weights[label] for label in labels]\n",
        "    total_weight = sum(weights)\n",
        "    probabilities = [weight / total_weight for weight in weights]\n",
        "\n",
        "    # Sample with probabilities\n",
        "    features = random.choices(features, weights=probabilities, k=len(features))\n",
        "\n",
        "    batch = {}\n",
        "\n",
        "    # Convert features to tensors\n",
        "    for k in features[0].keys():\n",
        "        if k == 'sequence_labels':\n",
        "            newk = 'sequence_labels'\n",
        "        else:\n",
        "            newk = k\n",
        "        if isinstance(features[0][k], torch.Tensor):\n",
        "            batch[newk] = torch.stack([f[k] for f in features])  # Use stack for tensors\n",
        "        else:\n",
        "            batch[newk] = torch.tensor([f[k] for f in features])  # Convert to tensor\n",
        "\n",
        "    return batch\n",
        "\n",
        "def torch_default_data_collator(features):\n",
        "\n",
        "    first = features[0]\n",
        "    batch = {}\n",
        "\n",
        "    # Special handling for labels.\n",
        "    # Ensure that tensor is created with the correct type\n",
        "    # (it should be automatically the case, but let's make sure of it.)\n",
        "    if \"label\" in first and first[\"label\"] is not None:\n",
        "        label = first[\"label\"].item() if isinstance(first[\"label\"], torch.Tensor) else first[\"label\"]\n",
        "        dtype = torch.long if isinstance(label, int) else torch.float\n",
        "        batch[\"labels\"] = torch.tensor([f[\"label\"] for f in features], dtype=dtype)\n",
        "    elif \"label_ids\" in first and first[\"label_ids\"] is not None:\n",
        "        if isinstance(first[\"label_ids\"], torch.Tensor):\n",
        "            batch[\"labels\"] = torch.stack([f[\"label_ids\"] for f in features])\n",
        "        else:\n",
        "            dtype = torch.long if isinstance(first[\"label_ids\"][0], int) else torch.float\n",
        "            batch[\"labels\"] = torch.tensor([f[\"label_ids\"] for f in features], dtype=dtype)\n",
        "\n",
        "    # Handling of all other possible keys.\n",
        "    # Again, we will use the first element to figure out which key/values are not None for this model.\n",
        "    for k, v in first.items():\n",
        "        if k not in (\"label\", \"label_ids\") and v is not None and not isinstance(v, str):\n",
        "            if isinstance(v, torch.Tensor):\n",
        "                batch[k] = torch.stack([f[k] for f in features])\n",
        "            elif isinstance(v, np.ndarray):\n",
        "                batch[k] = torch.from_numpy(np.stack([f[k] for f in features]))\n",
        "            else:\n",
        "                batch[k] = torch.tensor([f[k] for f in features])\n",
        "\n",
        "    return batch"
      ],
      "metadata": {
        "id": "J2s9q0sfHK-0"
      },
      "execution_count": null,
      "outputs": []
    },
    {
      "cell_type": "code",
      "source": [
        "doc_label_dct = {\"World\": 0, \"Sport\": 1, \"Business\": 2, \"Technology\": 3, \"Other\": 4}\n",
        "ner_label_dct = {'O': 0, 'B-PER': 1, 'I-PER': 2, 'B-ORG': 3, 'I-ORG': 4, 'B-LOC': 5, 'I-LOC': 6, 'B-MISC': 7, 'I-MISC': 8}\n",
        "SEQ_LOSS_WEIGHT = 1.0\n",
        "\n",
        "model_name = 'bert-base-uncased'\n",
        "model = BertForSequenceAndTokenClassification.from_pretrained(model_name,\n",
        "                                                           num_sequence_labels=len(doc_label_dct),\n",
        "                                                           num_token_labels=len(ner_label_dct),\n",
        "                                                           seq_loss_weight=SEQ_LOSS_WEIGHT,\n",
        "                                                          only_init_bert=True,\n",
        "                                                           attention_probs_dropout_prob=0.0,\n",
        "                                                           hidden_dropout_prob=0.0)\n",
        "\n",
        "if SEQ_LOSS_WEIGHT == 1.0:\n",
        "  metric_best_model = 'ner_f1'\n",
        "elif SEQ_LOSS_WEIGHT == 1.0:\n",
        "  metric_best_model = 'doc_f1'\n",
        "else:\n",
        "  metric_best_model = 'f1'\n"
      ],
      "metadata": {
        "id": "qc4858UsZEME",
        "outputId": "2d8c4cd4-3717-4670-9661-34cc8d2c7306",
        "colab": {
          "base_uri": "https://localhost:8080/",
          "height": 49,
          "referenced_widgets": [
            "8dc0fe59fdd54e019ce35cf950e8a193",
            "d855012c73ec472596be4a35fd4f7f07",
            "e0d94a63ecc842159450a9a0f373a11b",
            "6b0b3fa514774d108799a336d24bf5d0",
            "e02dcb643ce24920a79c42b7f0c7c6f7",
            "1f0b4936f30c4e6d8da04725d6234d37",
            "4a598957cf984d4d9ca330f08390460b",
            "f0d0f0c91ed448f0ba7474db1e9be1c7",
            "19b7cf7aa122449c9ddd036b6ed0b12e",
            "18c7d3cbbfd54479a0fa9f2195e5cf2d",
            "d78b13c6bf4149e288aa10a00be9fd37"
          ]
        }
      },
      "execution_count": null,
      "outputs": [
        {
          "output_type": "display_data",
          "data": {
            "text/plain": [
              "model.safetensors:   0%|          | 0.00/440M [00:00<?, ?B/s]"
            ],
            "application/vnd.jupyter.widget-view+json": {
              "version_major": 2,
              "version_minor": 0,
              "model_id": "8dc0fe59fdd54e019ce35cf950e8a193"
            }
          },
          "metadata": {}
        }
      ]
    },
    {
      "cell_type": "code",
      "source": [
        "from transformers.integrations import CometCallback\n",
        "from google.colab import userdata\n",
        "\n",
        "EPOCHS = 15\n",
        "BATCH_SIZE = 24\n",
        "\n",
        "# Define a custom callback to ensure experiment.end() is called\n",
        "class CustomCometCallback(CometCallback):\n",
        "\n",
        "  def __init__(self, experiment):\n",
        "      super().__init__()\n",
        "      self._experiment = experiment\n",
        "\n",
        "# define comet experiment\n",
        "experiment = comet_ml.Experiment(\n",
        "  api_key=userdata.get('COMET_API_KEY'),\n",
        "  project_name=os.getenv(\"COMET_PROJECT_NAME\"),\n",
        "  workspace=userdata.get('COMET_WORKSPACE'))\n",
        "\n",
        "exp_name = f\"seq_loss_weight={SEQ_LOSS_WEIGHT}\"\n",
        "experiment.set_name(exp_name)\n",
        "\n",
        "training_args = TrainingArguments(\n",
        "    output_dir='./results',\n",
        "    num_train_epochs=EPOCHS,\n",
        "    evaluation_strategy=\"epoch\",\n",
        "    save_strategy=\"epoch\",\n",
        "    logging_strategy=\"epoch\",\n",
        "    load_best_model_at_end=True,\n",
        "    metric_for_best_model=metric_best_model,\n",
        "    greater_is_better=True,\n",
        "    save_total_limit=1,\n",
        "    per_device_train_batch_size=BATCH_SIZE,\n",
        "    per_device_eval_batch_size=16,\n",
        "    warmup_steps=int((len(train_custom_dataset) / BATCH_SIZE)*EPOCHS / 10), #warmup set to 10 percent of total iterations\n",
        "    learning_rate=2e-5,\n",
        "    #lr_scheduler_type=\"cosine\",\n",
        "    weight_decay=0.01,\n",
        "    logging_dir=None,\n",
        "    dataloader_drop_last=False,\n",
        "    fp16=True, # mixed precision\n",
        "    report_to=[\"comet_ml\"]\n",
        ")\n",
        "\n",
        "trainer = Trainer(\n",
        "    model=model,\n",
        "    args=training_args,\n",
        "    train_dataset=train_custom_dataset,\n",
        "    eval_dataset=valid_custom_dataset,\n",
        "    callbacks=[CustomCometCallback(experiment=experiment)],\n",
        "    compute_metrics=compute_metrics,\n",
        "    #compute_loss_func=compute_loss,\n",
        "    #data_collator=torch_weighted_data_collator\n",
        ")\n"
      ],
      "metadata": {
        "colab": {
          "base_uri": "https://localhost:8080/",
          "height": 280
        },
        "id": "MA0D_bgy-pqv",
        "outputId": "9b5ec628-afae-406f-dbb1-e31dbc4e1e7f"
      },
      "execution_count": null,
      "outputs": [
        {
          "output_type": "stream",
          "name": "stderr",
          "text": [
            "\u001b[1;38;5;214mCOMET WARNING:\u001b[0m As you are running in a Jupyter environment, you will need to call `experiment.end()` when finished to ensure all metrics and code are logged before exiting.\n",
            "\u001b[1;38;5;39mCOMET INFO:\u001b[0m Experiment is live on comet.com https://www.comet.com/gonzaq94/ner-classif-bert-doc-level-and-ner-annots-strat-data-v2/33c19c25e5c0468d9c1f666cb1482420\n",
            "\n",
            "\u001b[1;38;5;39mCOMET INFO:\u001b[0m Couldn't find a Git repository in '/content' nor in any parent directory. Set `COMET_GIT_DIRECTORY` if your Git Repository is elsewhere.\n"
          ]
        },
        {
          "output_type": "error",
          "ename": "NameError",
          "evalue": "name 'SEQ_LOSS_WEIGHT' is not defined",
          "traceback": [
            "\u001b[0;31m---------------------------------------------------------------------------\u001b[0m",
            "\u001b[0;31mNameError\u001b[0m                                 Traceback (most recent call last)",
            "\u001b[0;32m<ipython-input-14-b7e4af471203>\u001b[0m in \u001b[0;36m<cell line: 20>\u001b[0;34m()\u001b[0m\n\u001b[1;32m     18\u001b[0m   workspace=userdata.get('COMET_WORKSPACE'))\n\u001b[1;32m     19\u001b[0m \u001b[0;34m\u001b[0m\u001b[0m\n\u001b[0;32m---> 20\u001b[0;31m \u001b[0mexp_name\u001b[0m \u001b[0;34m=\u001b[0m \u001b[0;34mf\"seq_loss_weight={SEQ_LOSS_WEIGHT}\"\u001b[0m\u001b[0;34m\u001b[0m\u001b[0;34m\u001b[0m\u001b[0m\n\u001b[0m\u001b[1;32m     21\u001b[0m \u001b[0mexperiment\u001b[0m\u001b[0;34m.\u001b[0m\u001b[0mset_name\u001b[0m\u001b[0;34m(\u001b[0m\u001b[0mexp_name\u001b[0m\u001b[0;34m)\u001b[0m\u001b[0;34m\u001b[0m\u001b[0;34m\u001b[0m\u001b[0m\n\u001b[1;32m     22\u001b[0m \u001b[0;34m\u001b[0m\u001b[0m\n",
            "\u001b[0;31mNameError\u001b[0m: name 'SEQ_LOSS_WEIGHT' is not defined"
          ]
        }
      ]
    },
    {
      "cell_type": "code",
      "source": [
        "trainer.train()"
      ],
      "metadata": {
        "colab": {
          "base_uri": "https://localhost:8080/",
          "height": 615
        },
        "id": "dZuah_E6-re5",
        "outputId": "1ff4823f-6eab-4db4-d39f-a2f2f7108de6"
      },
      "execution_count": null,
      "outputs": [
        {
          "output_type": "stream",
          "name": "stderr",
          "text": [
            "\u001b[1;38;5;39mCOMET INFO:\u001b[0m An experiment with the same configuration options is already running and will be reused.\n",
            "\u001b[1;38;5;39mCOMET INFO:\u001b[0m An experiment with the same configuration options is already running and will be reused.\n"
          ]
        },
        {
          "output_type": "display_data",
          "data": {
            "text/plain": [
              "<IPython.core.display.HTML object>"
            ],
            "text/html": [
              "\n",
              "    <div>\n",
              "      \n",
              "      <progress value='630' max='630' style='width:300px; height:20px; vertical-align: middle;'></progress>\n",
              "      [630/630 10:08, Epoch 15/15]\n",
              "    </div>\n",
              "    <table border=\"1\" class=\"dataframe\">\n",
              "  <thead>\n",
              " <tr style=\"text-align: left;\">\n",
              "      <th>Epoch</th>\n",
              "      <th>Training Loss</th>\n",
              "      <th>Validation Loss</th>\n",
              "      <th>Ner Accuracy</th>\n",
              "      <th>Ner F1</th>\n",
              "      <th>Ner Precision</th>\n",
              "      <th>Ner Recall</th>\n",
              "      <th>Doc Accuracy</th>\n",
              "      <th>Doc F1</th>\n",
              "      <th>Doc Precision</th>\n",
              "      <th>Doc Recall</th>\n",
              "      <th>F1</th>\n",
              "    </tr>\n",
              "  </thead>\n",
              "  <tbody>\n",
              "    <tr>\n",
              "      <td>1</td>\n",
              "      <td>1.490900</td>\n",
              "      <td>1.216680</td>\n",
              "      <td>0.198357</td>\n",
              "      <td>0.289721</td>\n",
              "      <td>0.679953</td>\n",
              "      <td>0.198357</td>\n",
              "      <td>0.556311</td>\n",
              "      <td>0.480565</td>\n",
              "      <td>0.700258</td>\n",
              "      <td>0.556311</td>\n",
              "      <td>0.385143</td>\n",
              "    </tr>\n",
              "    <tr>\n",
              "      <td>2</td>\n",
              "      <td>0.983500</td>\n",
              "      <td>0.691078</td>\n",
              "      <td>0.236455</td>\n",
              "      <td>0.337998</td>\n",
              "      <td>0.670917</td>\n",
              "      <td>0.236455</td>\n",
              "      <td>0.780583</td>\n",
              "      <td>0.768348</td>\n",
              "      <td>0.792405</td>\n",
              "      <td>0.780583</td>\n",
              "      <td>0.553173</td>\n",
              "    </tr>\n",
              "    <tr>\n",
              "      <td>3</td>\n",
              "      <td>0.523900</td>\n",
              "      <td>0.477086</td>\n",
              "      <td>0.188709</td>\n",
              "      <td>0.275191</td>\n",
              "      <td>0.656554</td>\n",
              "      <td>0.188709</td>\n",
              "      <td>0.815534</td>\n",
              "      <td>0.803360</td>\n",
              "      <td>0.823912</td>\n",
              "      <td>0.815534</td>\n",
              "      <td>0.539275</td>\n",
              "    </tr>\n",
              "    <tr>\n",
              "      <td>4</td>\n",
              "      <td>0.303600</td>\n",
              "      <td>0.445581</td>\n",
              "      <td>0.120776</td>\n",
              "      <td>0.175822</td>\n",
              "      <td>0.655269</td>\n",
              "      <td>0.120776</td>\n",
              "      <td>0.845631</td>\n",
              "      <td>0.847243</td>\n",
              "      <td>0.853493</td>\n",
              "      <td>0.845631</td>\n",
              "      <td>0.511532</td>\n",
              "    </tr>\n",
              "    <tr>\n",
              "      <td>5</td>\n",
              "      <td>0.168200</td>\n",
              "      <td>0.439644</td>\n",
              "      <td>0.099451</td>\n",
              "      <td>0.140064</td>\n",
              "      <td>0.650851</td>\n",
              "      <td>0.099451</td>\n",
              "      <td>0.859223</td>\n",
              "      <td>0.860791</td>\n",
              "      <td>0.865169</td>\n",
              "      <td>0.859223</td>\n",
              "      <td>0.500428</td>\n",
              "    </tr>\n",
              "    <tr>\n",
              "      <td>6</td>\n",
              "      <td>0.103000</td>\n",
              "      <td>0.508579</td>\n",
              "      <td>0.093316</td>\n",
              "      <td>0.124279</td>\n",
              "      <td>0.649907</td>\n",
              "      <td>0.093316</td>\n",
              "      <td>0.868932</td>\n",
              "      <td>0.868619</td>\n",
              "      <td>0.869691</td>\n",
              "      <td>0.868932</td>\n",
              "      <td>0.496449</td>\n",
              "    </tr>\n",
              "    <tr>\n",
              "      <td>7</td>\n",
              "      <td>0.041600</td>\n",
              "      <td>0.560111</td>\n",
              "      <td>0.101529</td>\n",
              "      <td>0.137646</td>\n",
              "      <td>0.648706</td>\n",
              "      <td>0.101529</td>\n",
              "      <td>0.867961</td>\n",
              "      <td>0.867866</td>\n",
              "      <td>0.868333</td>\n",
              "      <td>0.867961</td>\n",
              "      <td>0.502756</td>\n",
              "    </tr>\n",
              "    <tr>\n",
              "      <td>8</td>\n",
              "      <td>0.023800</td>\n",
              "      <td>0.643047</td>\n",
              "      <td>0.062392</td>\n",
              "      <td>0.070139</td>\n",
              "      <td>0.648027</td>\n",
              "      <td>0.062392</td>\n",
              "      <td>0.859223</td>\n",
              "      <td>0.859974</td>\n",
              "      <td>0.862189</td>\n",
              "      <td>0.859223</td>\n",
              "      <td>0.465056</td>\n",
              "    </tr>\n",
              "    <tr>\n",
              "      <td>9</td>\n",
              "      <td>0.023100</td>\n",
              "      <td>0.629381</td>\n",
              "      <td>0.081292</td>\n",
              "      <td>0.103130</td>\n",
              "      <td>0.645076</td>\n",
              "      <td>0.081292</td>\n",
              "      <td>0.869903</td>\n",
              "      <td>0.870143</td>\n",
              "      <td>0.871002</td>\n",
              "      <td>0.869903</td>\n",
              "      <td>0.486636</td>\n",
              "    </tr>\n",
              "    <tr>\n",
              "      <td>10</td>\n",
              "      <td>0.016900</td>\n",
              "      <td>0.668171</td>\n",
              "      <td>0.076641</td>\n",
              "      <td>0.095412</td>\n",
              "      <td>0.644467</td>\n",
              "      <td>0.076641</td>\n",
              "      <td>0.868932</td>\n",
              "      <td>0.869237</td>\n",
              "      <td>0.871020</td>\n",
              "      <td>0.868932</td>\n",
              "      <td>0.482324</td>\n",
              "    </tr>\n",
              "    <tr>\n",
              "      <td>11</td>\n",
              "      <td>0.008000</td>\n",
              "      <td>0.677749</td>\n",
              "      <td>0.074811</td>\n",
              "      <td>0.090695</td>\n",
              "      <td>0.646974</td>\n",
              "      <td>0.074811</td>\n",
              "      <td>0.872816</td>\n",
              "      <td>0.872581</td>\n",
              "      <td>0.873825</td>\n",
              "      <td>0.872816</td>\n",
              "      <td>0.481638</td>\n",
              "    </tr>\n",
              "    <tr>\n",
              "      <td>12</td>\n",
              "      <td>0.006900</td>\n",
              "      <td>0.683853</td>\n",
              "      <td>0.073772</td>\n",
              "      <td>0.088597</td>\n",
              "      <td>0.644875</td>\n",
              "      <td>0.073772</td>\n",
              "      <td>0.867961</td>\n",
              "      <td>0.868820</td>\n",
              "      <td>0.870783</td>\n",
              "      <td>0.867961</td>\n",
              "      <td>0.478708</td>\n",
              "    </tr>\n",
              "    <tr>\n",
              "      <td>13</td>\n",
              "      <td>0.006300</td>\n",
              "      <td>0.691322</td>\n",
              "      <td>0.076295</td>\n",
              "      <td>0.093481</td>\n",
              "      <td>0.645584</td>\n",
              "      <td>0.076295</td>\n",
              "      <td>0.874757</td>\n",
              "      <td>0.874791</td>\n",
              "      <td>0.876176</td>\n",
              "      <td>0.874757</td>\n",
              "      <td>0.484136</td>\n",
              "    </tr>\n",
              "    <tr>\n",
              "      <td>14</td>\n",
              "      <td>0.004900</td>\n",
              "      <td>0.694030</td>\n",
              "      <td>0.077433</td>\n",
              "      <td>0.095718</td>\n",
              "      <td>0.647731</td>\n",
              "      <td>0.077433</td>\n",
              "      <td>0.876699</td>\n",
              "      <td>0.876915</td>\n",
              "      <td>0.878352</td>\n",
              "      <td>0.876699</td>\n",
              "      <td>0.486316</td>\n",
              "    </tr>\n",
              "    <tr>\n",
              "      <td>15</td>\n",
              "      <td>0.004400</td>\n",
              "      <td>0.696682</td>\n",
              "      <td>0.077136</td>\n",
              "      <td>0.095230</td>\n",
              "      <td>0.645378</td>\n",
              "      <td>0.077136</td>\n",
              "      <td>0.873786</td>\n",
              "      <td>0.874098</td>\n",
              "      <td>0.875584</td>\n",
              "      <td>0.873786</td>\n",
              "      <td>0.484664</td>\n",
              "    </tr>\n",
              "  </tbody>\n",
              "</table><p>"
            ]
          },
          "metadata": {}
        },
        {
          "output_type": "execute_result",
          "data": {
            "text/plain": [
              "TrainOutput(global_step=630, training_loss=0.24726175566514333, metrics={'train_runtime': 481.5358, 'train_samples_per_second': 31.15, 'train_steps_per_second': 1.308, 'total_flos': 1973545528320000.0, 'train_loss': 0.24726175566514333, 'epoch': 15.0})"
            ]
          },
          "metadata": {},
          "execution_count": 31
        }
      ]
    },
    {
      "cell_type": "code",
      "source": [
        "  import shutil\n",
        "\n",
        "  # Copy the best model checkpoint to a \"best_model\" directory with a custom name\n",
        "  best_model_dir = \"./results/best_model\"\n",
        "  if os.path.exists(best_model_dir):\n",
        "      shutil.rmtree(best_model_dir)  # Remove existing directory if needed\n",
        "  os.makedirs(best_model_dir, exist_ok=True)\n",
        "  shutil.copytree(trainer.state.best_model_checkpoint, best_model_dir, dirs_exist_ok=True)"
      ],
      "metadata": {
        "colab": {
          "base_uri": "https://localhost:8080/",
          "height": 35
        },
        "id": "vXkVIRNVYmcx",
        "outputId": "0936141b-5702-432d-b2fe-5bf1cdf19d84"
      },
      "execution_count": null,
      "outputs": [
        {
          "output_type": "execute_result",
          "data": {
            "text/plain": [
              "'./results/best_model'"
            ],
            "application/vnd.google.colaboratory.intrinsic+json": {
              "type": "string"
            }
          },
          "metadata": {},
          "execution_count": 32
        }
      ]
    },
    {
      "cell_type": "markdown",
      "source": [
        "## Log and register model in Comet"
      ],
      "metadata": {
        "id": "1_tcWxQxakMp"
      }
    },
    {
      "cell_type": "code",
      "source": [
        "registered_model_name = \"ner_classif-bert-doc_level_and_NER_annots-strat_data\" + exp_name\n",
        "experiment.log_model(registered_model_name, \"results/best_model\")\n",
        "experiment.register_model(registered_model_name)"
      ],
      "metadata": {
        "id": "vA5Tk-cqdLuF"
      },
      "execution_count": null,
      "outputs": []
    },
    {
      "cell_type": "code",
      "source": [
        "trainer.state.best_model_checkpoint"
      ],
      "metadata": {
        "colab": {
          "base_uri": "https://localhost:8080/",
          "height": 35
        },
        "id": "1ULnItjdbRPF",
        "outputId": "2a86d5c0-bd91-49a4-cf40-165facf26507"
      },
      "execution_count": null,
      "outputs": [
        {
          "output_type": "execute_result",
          "data": {
            "text/plain": [
              "'./results/checkpoint-84'"
            ],
            "application/vnd.google.colaboratory.intrinsic+json": {
              "type": "string"
            }
          },
          "metadata": {},
          "execution_count": 34
        }
      ]
    },
    {
      "cell_type": "code",
      "source": [
        "registered_model_name"
      ],
      "metadata": {
        "id": "YrRftIUBix_m",
        "outputId": "e341321f-6fb0-4f2b-a4cb-9b8f1a01c0e6",
        "colab": {
          "base_uri": "https://localhost:8080/",
          "height": 35
        }
      },
      "execution_count": null,
      "outputs": [
        {
          "output_type": "execute_result",
          "data": {
            "text/plain": [
              "'ner_classif-bert-doc_level_and_NER_annots-strat_dataseq_loss_weight=1.0'"
            ],
            "application/vnd.google.colaboratory.intrinsic+json": {
              "type": "string"
            }
          },
          "metadata": {},
          "execution_count": 35
        }
      ]
    },
    {
      "cell_type": "markdown",
      "source": [
        "# Evaluate best model"
      ],
      "metadata": {
        "id": "XrFYvnNyYHNd"
      }
    },
    {
      "cell_type": "code",
      "source": [
        "def plot_confusion_matrix(cm, class_names, title='Normalized confusion Matrix'):\n",
        "\n",
        "    # Plot confusion matrix\n",
        "    plt.figure(figsize=(10, 8))\n",
        "    sns.heatmap(cm, annot=True, fmt='.2f', cmap='Blues', xticklabels=class_names, yticklabels=class_names)\n",
        "    plt.title(title)\n",
        "    plt.xlabel('Predicted Label')\n",
        "    plt.ylabel('True Label')\n",
        "    plt.show()\n",
        "\n",
        "def compute_metrics_eval_ner_and_doc(p):\n",
        "\n",
        "    predictions, labels = p\n",
        "    ner_predictions, doc_predictions = predictions\n",
        "    ner_labels, doc_labels = labels\n",
        "\n",
        "    # NER metrics\n",
        "    ner_predictions = ner_predictions.argmax(-1)  # Get the predicted class indices\n",
        "    true_ner_predictions = [p for (p, l) in zip(ner_predictions.flatten(), ner_labels.flatten()) if l != -100]\n",
        "    true_ner_labels = [l for l in ner_labels.flatten() if l != -100]\n",
        "\n",
        "    ner_precision, ner_recall, ner_f1, _ = precision_recall_fscore_support(true_ner_labels, true_ner_predictions, average='weighted', zero_division=1 )\n",
        "    ner_acc = accuracy_score(true_ner_labels, true_ner_predictions)\n",
        "\n",
        "    # doc-level metrics\n",
        "    doc_predictions = doc_predictions.argmax(-1)  # Get the predicted class indices\n",
        "    doc_precision, doc_recall, doc_f1, _ = precision_recall_fscore_support(doc_labels, doc_predictions, average='weighted', zero_division=1 )\n",
        "    doc_acc = accuracy_score(doc_labels, doc_predictions)\n",
        "\n",
        "    # Calculate confusion matrices\n",
        "    ner_conf_matrix = confusion_matrix(true_ner_labels, true_ner_predictions, normalize='true')\n",
        "    doc_conf_matrix = confusion_matrix(doc_labels, doc_predictions, normalize='true')\n",
        "\n",
        "    return {\n",
        "        'ner_accuracy': ner_acc,\n",
        "        'ner_f1': ner_f1,\n",
        "        'ner_precision': ner_precision,\n",
        "        'ner_recall': ner_recall,\n",
        "        'doc_accuracy': doc_acc,\n",
        "        'doc_f1': doc_f1,\n",
        "        'doc_precision': doc_precision,\n",
        "        'doc_recall': doc_recall,\n",
        "        'f1': (doc_f1 + ner_f1) / 2,\n",
        "        'ner_confusion_matrix': ner_conf_matrix,\n",
        "        'doc_confusion_matrix': doc_conf_matrix\n",
        "    }\n",
        "\n",
        "eval_args = TrainingArguments(\n",
        "    output_dir='./results',\n",
        "    num_train_epochs=15,\n",
        "    evaluation_strategy=\"epoch\",\n",
        "    save_strategy=\"epoch\",\n",
        "    logging_strategy=\"no\",\n",
        "    load_best_model_at_end=True,\n",
        "    metric_for_best_model=\"f1\",\n",
        "    greater_is_better=True,\n",
        "    save_total_limit=1,\n",
        "    per_device_train_batch_size=24,\n",
        "    per_device_eval_batch_size=16,\n",
        "    report_to=[]\n",
        ")\n",
        "\n",
        "\n",
        "class Evaluator:\n",
        "    def __init__(self, model, tokenizer, compute_metrics):\n",
        "        self.model = model\n",
        "        self.tokenizer = tokenizer\n",
        "        self.compute_metrics = compute_metrics\n",
        "\n",
        "    def evaluate(self, eval_dataset, batch_size=16):\n",
        "        trainer = Trainer(\n",
        "            model=self.model,\n",
        "            args=eval_args,\n",
        "            compute_metrics=self.compute_metrics,\n",
        "            eval_dataset=eval_dataset,\n",
        "        )\n",
        "        return trainer.evaluate()"
      ],
      "metadata": {
        "id": "GvhKpReP0m94",
        "outputId": "de99d89f-3688-4aa4-caf5-938b021d3bd3",
        "colab": {
          "base_uri": "https://localhost:8080/"
        }
      },
      "execution_count": null,
      "outputs": [
        {
          "output_type": "stream",
          "name": "stderr",
          "text": [
            "/usr/local/lib/python3.10/dist-packages/transformers/training_args.py:1525: FutureWarning: `evaluation_strategy` is deprecated and will be removed in version 4.46 of 🤗 Transformers. Use `eval_strategy` instead\n",
            "  warnings.warn(\n"
          ]
        }
      ]
    },
    {
      "cell_type": "markdown",
      "source": [
        "### NER & Doc classification"
      ],
      "metadata": {
        "id": "ndiKWBgcYYJL"
      }
    },
    {
      "cell_type": "code",
      "source": [
        "from comet_ml import API\n",
        "\n",
        "api = API(api_key=userdata.get('COMET_API_KEY'))\n",
        "\n",
        "\n",
        "# model name\n",
        "model_name = \"ner_classif-bert-doc_level_and_ner_annots-strat_dataseq_loss_weight-0.25\"\n",
        "\n",
        "#get the Model object\n",
        "model_doc_and_ner = api.get_model(workspace=userdata.get(\"COMET_WORKSPACE\"), model_name=model_name)\n",
        "\n",
        "# Download a Registry Model:\n",
        "model_doc_and_ner.download(\"1.0.0\", \"./deploy\", expand=True)"
      ],
      "metadata": {
        "id": "QB0ZoajpdTG_",
        "colab": {
          "base_uri": "https://localhost:8080/"
        },
        "outputId": "7f05b866-d0a3-4c89-9c46-1f6aa16d7ab5"
      },
      "execution_count": null,
      "outputs": [
        {
          "output_type": "stream",
          "name": "stderr",
          "text": [
            "\u001b[1;38;5;39mCOMET INFO:\u001b[0m Remote Model 'gonzaq94/ner_classif-bert-doc_level_and_ner_annots-strat_dataseq_loss_weight-0.25:1.0.0' download has been started asynchronously.\n",
            "\u001b[1;38;5;39mCOMET INFO:\u001b[0m Still downloading 7 file(s), remaining 1.22 GB/1.22 GB\n",
            "\u001b[1;38;5;39mCOMET INFO:\u001b[0m Still downloading 2 file(s), remaining 875.23 MB/1.22 GB, Throughput 25.17 MB/s, ETA ~35s\n",
            "\u001b[1;38;5;39mCOMET INFO:\u001b[0m Still downloading 2 file(s), remaining 486.23 MB/1.22 GB, Throughput 25.91 MB/s, ETA ~19s\n",
            "\u001b[1;38;5;39mCOMET INFO:\u001b[0m Still downloading 1 file(s), remaining 267.53 MB/1.22 GB, Throughput 14.56 MB/s, ETA ~19s\n",
            "\u001b[1;38;5;39mCOMET INFO:\u001b[0m Still downloading 1 file(s), remaining 71.53 MB/1.22 GB, Throughput 13.05 MB/s, ETA ~6s\n",
            "\u001b[1;38;5;39mCOMET INFO:\u001b[0m Remote Model 'gonzaq94/ner_classif-bert-doc_level_and_ner_annots-strat_dataseq_loss_weight-0.25:1.0.0' has been successfully downloaded.\n",
            "\u001b[1;38;5;39mCOMET INFO:\u001b[0m Downloaded asset files is in './deploy' folder.\n"
          ]
        }
      ]
    },
    {
      "cell_type": "code",
      "source": [
        "model_doc_ner = BertForSequenceAndTokenClassification.from_pretrained(\"./deploy/best_model\",\n",
        "                                                           num_sequence_labels=len(doc_label_dct),\n",
        "                                                           num_token_labels=len(ner_label_dct),\n",
        "                                                           seq_loss_weight=0.5,\n",
        "                                                          only_init_bert=False,\n",
        "                                                           attention_probs_dropout_prob=0.0,\n",
        "                                                           hidden_dropout_prob=0.0)\n"
      ],
      "metadata": {
        "id": "4ifpWVtRWpbs"
      },
      "execution_count": null,
      "outputs": []
    },
    {
      "cell_type": "code",
      "source": [
        "!ls ./deploy/checkpoint-546"
      ],
      "metadata": {
        "id": "D15IVh2D3o4L",
        "outputId": "dbbedc94-dd1d-44a2-b5ef-2817229d4d48",
        "colab": {
          "base_uri": "https://localhost:8080/"
        }
      },
      "execution_count": null,
      "outputs": [
        {
          "output_type": "stream",
          "name": "stdout",
          "text": [
            "ls: cannot access './deploy/checkpoint-546': No such file or directory\n"
          ]
        }
      ]
    },
    {
      "cell_type": "code",
      "source": [
        "#loaded_test_dataset = loaded_test_dataset.shuffle().select(range(100))\n",
        "test_custom_dataset = SeqTokenDataset(\n",
        "    texts=loaded_test_dataset['tokens'],\n",
        "    token_labels=loaded_test_dataset['ner_tags'],\n",
        "    sequence_labels=loaded_test_dataset['doc_labels'],\n",
        "    tokenizer=tokenizer,\n",
        "    max_length=256\n",
        ")"
      ],
      "metadata": {
        "id": "kXTmIM502cgD"
      },
      "execution_count": null,
      "outputs": []
    },
    {
      "cell_type": "code",
      "source": [
        "evaluator_ner_and_doc = Evaluator(model_doc_ner, tokenizer, compute_metrics_eval_ner_and_doc)"
      ],
      "metadata": {
        "id": "Nf7YDJ5T2tUT"
      },
      "execution_count": null,
      "outputs": []
    },
    {
      "cell_type": "code",
      "source": [
        "eval_results = evaluator_ner_and_doc.evaluate(test_custom_dataset)"
      ],
      "metadata": {
        "id": "pB2auBbxYP1f",
        "colab": {
          "base_uri": "https://localhost:8080/",
          "height": 37
        },
        "outputId": "c018e591-aaef-47ba-c00d-39ac69054d3c"
      },
      "execution_count": null,
      "outputs": [
        {
          "output_type": "display_data",
          "data": {
            "text/plain": [
              "<IPython.core.display.HTML object>"
            ],
            "text/html": [
              "\n",
              "    <div>\n",
              "      \n",
              "      <progress value='216' max='216' style='width:300px; height:20px; vertical-align: middle;'></progress>\n",
              "      [216/216 00:45]\n",
              "    </div>\n",
              "    "
            ]
          },
          "metadata": {}
        }
      ]
    },
    {
      "cell_type": "code",
      "source": [
        "class_names = [k for k, v in doc_label_dct.items()]\n",
        "plot_confusion_matrix(eval_results['eval_doc_confusion_matrix'], class_names)"
      ],
      "metadata": {
        "id": "RPr0yd6CYSc_",
        "colab": {
          "base_uri": "https://localhost:8080/",
          "height": 718
        },
        "outputId": "78770358-b48f-47d2-b220-c09d22e7926a"
      },
      "execution_count": null,
      "outputs": [
        {
          "output_type": "display_data",
          "data": {
            "text/plain": [
              "<Figure size 1000x800 with 2 Axes>"
            ],
            "image/png": "[encoded data removed]"
          },
          "metadata": {}
        }
      ]
    },
    {
      "cell_type": "code",
      "source": [
        "class_names = [k for k, v in ner_label_dct.items()]\n",
        "plot_confusion_matrix(eval_results['eval_ner_confusion_matrix'], class_names)"
      ],
      "metadata": {
        "colab": {
          "base_uri": "https://localhost:8080/",
          "height": 718
        },
        "id": "5NF1JV9AedBm",
        "outputId": "d8a9166c-87e2-4dbf-dc58-6bd86d686c3f"
      },
      "execution_count": null,
      "outputs": [
        {
          "output_type": "display_data",
          "data": {
            "text/plain": [
              "<Figure size 1000x800 with 2 Axes>"
            ],
            "image/png": "[encoded data removed]"
          },
          "metadata": {}
        }
      ]
    },
    {
      "cell_type": "code",
      "source": [
        "for key, value in eval_results.items():\n",
        "  if key != 'eval_ner_confusion_matrix' and key != 'eval_doc_confusion_matrix':\n",
        "    print(f\"{key}: {value}\")"
      ],
      "metadata": {
        "colab": {
          "base_uri": "https://localhost:8080/"
        },
        "id": "RmKij6pBX-tk",
        "outputId": "46b8a7ac-689e-4919-b3c3-c209a2b44d8f"
      },
      "execution_count": null,
      "outputs": [
        {
          "output_type": "stream",
          "name": "stdout",
          "text": [
            "eval_loss: 0.38967108726501465\n",
            "eval_model_preparation_time: 0.0062\n",
            "eval_ner_accuracy: 0.9630032456322077\n",
            "eval_ner_f1: 0.9629653101429597\n",
            "eval_ner_precision: 0.9632269296884439\n",
            "eval_ner_recall: 0.9630032456322077\n",
            "eval_doc_accuracy: 0.8273964668404287\n",
            "eval_doc_f1: 0.8281981334086106\n",
            "eval_doc_precision: 0.8369937231052469\n",
            "eval_doc_recall: 0.8273964668404287\n",
            "eval_f1: 0.8955817217757851\n",
            "eval_runtime: 50.2274\n",
            "eval_samples_per_second: 68.747\n",
            "eval_steps_per_second: 4.3\n"
          ]
        }
      ]
    },
    {
      "cell_type": "markdown",
      "source": [
        "### Doc (sequence) classification"
      ],
      "metadata": {
        "id": "BfFszg59oB6c"
      }
    },
    {
      "cell_type": "code",
      "source": [],
      "metadata": {
        "id": "9AjzSE3dM9Re"
      },
      "execution_count": null,
      "outputs": []
    },
    {
      "cell_type": "code",
      "source": [
        "from comet_ml import API\n",
        "from google.colab import userdata\n",
        "\n",
        "\n",
        "api = API(api_key=userdata.get('COMET_API_KEY'))\n",
        "\n",
        "# model name\n",
        "model_name = \"ner_classif-bert-doc_level_and_NER_annots-strat_data-v2-only_sequence\"\n",
        "\n",
        "#get the Model object\n",
        "model_doc_and_ner = api.get_model(workspace=userdata.get('COMET_WORKSPACE'), model_name=model_name)\n",
        "\n",
        "# Download a Registry Model:\n",
        "model_doc_and_ner.download(\"1.0.0\", \"./deploy/doc\", expand=True)"
      ],
      "metadata": {
        "id": "dS8kKb95XW9O",
        "colab": {
          "base_uri": "https://localhost:8080/"
        },
        "outputId": "7a087577-916e-49a1-ded0-2a5d37c9bf65"
      },
      "execution_count": null,
      "outputs": [
        {
          "output_type": "stream",
          "name": "stderr",
          "text": [
            "\u001b[1;38;5;39mCOMET INFO:\u001b[0m Remote Model 'gonzaq94/ner_classif-bert-doc_level_and_NER_annots-strat_data-v2-only_sequence:1.0.0' download has been started asynchronously.\n",
            "\u001b[1;38;5;39mCOMET INFO:\u001b[0m Still downloading 6 file(s), remaining 417.73 MB/417.73 MB\n",
            "\u001b[1;38;5;214mCOMET WARNING:\u001b[0m File './deploy/doc/best_model/rng_state.pth' has been overwritten by asset 'b663fc1d8a824336bd98a67c2a5687ed' of remote model\n",
            "\u001b[1;38;5;214mCOMET WARNING:\u001b[0m File './deploy/doc/best_model/trainer_state.json' has been overwritten by asset '6117981e9f3944eb833070715cb077b9' of remote model\n",
            "\u001b[1;38;5;214mCOMET WARNING:\u001b[0m File './deploy/doc/best_model/config.json' has been overwritten by asset '85abd8064541473a9d20417377495c32' of remote model\n",
            "\u001b[1;38;5;214mCOMET WARNING:\u001b[0m File './deploy/doc/best_model/model.safetensors' has been overwritten by asset 'ce42711dcf854b2ea382d35f3dc6c077' of remote model\n",
            "\u001b[1;38;5;214mCOMET WARNING:\u001b[0m File './deploy/doc/best_model/training_args.bin' has been overwritten by asset 'db0552b6005b4a9283e6298bfaa17211' of remote model\n",
            "\u001b[1;38;5;214mCOMET WARNING:\u001b[0m File './deploy/doc/best_model/scheduler.pt' has been overwritten by asset 'dea937476e3d4e4caa17d327406a965e' of remote model\n",
            "\u001b[1;38;5;39mCOMET INFO:\u001b[0m Remote Model 'gonzaq94/ner_classif-bert-doc_level_and_NER_annots-strat_data-v2-only_sequence:1.0.0' has been successfully downloaded.\n",
            "\u001b[1;38;5;39mCOMET INFO:\u001b[0m Downloaded asset files is in './deploy/doc' folder.\n"
          ]
        }
      ]
    },
    {
      "cell_type": "code",
      "source": [
        "model_doc = BertForSequenceAndTokenClassification.from_pretrained(\"./deploy/doc/best_model\",\n",
        "                                                           num_sequence_labels=len(doc_label_dct),\n",
        "                                                           num_token_labels=len(ner_label_dct),\n",
        "                                                          only_init_bert=False,\n",
        "                                                           attention_probs_dropout_prob=0.0,\n",
        "                                                           hidden_dropout_prob=0.0)\n"
      ],
      "metadata": {
        "id": "DWGqYDd3oybH"
      },
      "execution_count": null,
      "outputs": []
    },
    {
      "cell_type": "code",
      "source": [
        "evaluator_doc = Evaluator(model_doc, tokenizer, compute_metrics_eval_ner_and_doc)\n",
        "eval_results_doc = evaluator_doc.evaluate(test_custom_dataset)"
      ],
      "metadata": {
        "id": "lpn9NbdapMx_",
        "colab": {
          "base_uri": "https://localhost:8080/",
          "height": 575
        },
        "outputId": "1a4e54c2-f25e-4e89-c2b1-4371e4cf479f"
      },
      "execution_count": null,
      "outputs": [
        {
          "output_type": "stream",
          "name": "stderr",
          "text": [
            "/usr/local/lib/python3.10/dist-packages/accelerate/accelerator.py:494: FutureWarning: `torch.cuda.amp.GradScaler(args...)` is deprecated. Please use `torch.amp.GradScaler('cuda', args...)` instead.\n",
            "  self.scaler = torch.cuda.amp.GradScaler(**kwargs)\n"
          ]
        },
        {
          "output_type": "display_data",
          "data": {
            "text/plain": [
              "<IPython.core.display.HTML object>"
            ],
            "text/html": [
              "\n",
              "    <div>\n",
              "      \n",
              "      <progress value='216' max='216' style='width:300px; height:20px; vertical-align: middle;'></progress>\n",
              "      [216/216 00:18]\n",
              "    </div>\n",
              "    "
            ]
          },
          "metadata": {}
        },
        {
          "output_type": "stream",
          "name": "stderr",
          "text": [
            "\u001b[1;38;5;39mCOMET INFO:\u001b[0m An experiment with the same configuration options is already running and will be reused.\n",
            "\u001b[1;38;5;214mCOMET WARNING:\u001b[0m Cannot safely convert array([[8.57740586e-01, 1.25523013e-02, 1.25523013e-02, 4.18410042e-03,\n",
            "        1.12970711e-01],\n",
            "       [0.00000000e+00, 9.22595778e-01, 7.81860829e-04, 0.00000000e+00,\n",
            "        7.66223612e-02],\n",
            "       [4.82456140e-02, 1.97368421e-02, 8.46491228e-01, 1.53508772e-02,\n",
            "        7.01754386e-02],\n",
            "       [0.00000000e+00, 0.00000000e+00, 0.00000000e+00, 8.57142857e-01,\n",
            "        1.42857143e-01],\n",
            "       [5.66552901e-02, 1.36518771e-01, 4.98293515e-02, 2.04778157e-03,\n",
            "        7.54948805e-01]]) object to a scalar value, using its string representation for logging. Resulting string might be invalid\n",
            "\u001b[1;38;5;214mCOMET WARNING:\u001b[0m Cannot safely convert array([[0.02608409, 0.01085186, 0.10508475, 0.02584195, 0.03321594,\n",
            "        0.33832269, 0.27462029, 0.08837772, 0.0976007 ],\n",
            "       [0.02832965, 0.01729213, 0.04451803, 0.00294334, 0.02428256,\n",
            "        0.232156  , 0.57174393, 0.0522443 , 0.02649007],\n",
            "       [0.0296    , 0.0208    , 0.0284    , 0.0028    , 0.024     ,\n",
            "        0.202     , 0.6092    , 0.0576    , 0.0256    ],\n",
            "       [0.00695518, 0.01816074, 0.1248068 , 0.01429675, 0.02666151,\n",
            "        0.18392581, 0.48570325, 0.06066461, 0.07882535],\n",
            "       [0.01809524, 0.03428571, 0.14857143, 0.00952381, 0.03142857,\n",
            "        0.18      , 0.43333333, 0.06761905, 0.07714286],\n",
            "       [0.03672316, 0.03672316, 0.06308851, 0.02118644, 0.05367232,\n",
            "        0.37429379, 0.34369115, 0.01977401, 0.05084746],\n",
            "       [0.03610108, 0.03610108, 0.05776173, 0.01444043, 0.04693141,\n",
            "        0.35379061, 0.37184116, 0.03610108, 0.04693141],\n",
            "       [0.03714859, 0.02208835, 0.10240964, 0.00702811, 0.06526104,\n",
            "        0.18674699, 0.4748996 , 0.05220884, 0.05220884],\n",
            "       [0.02074689, 0.02904564, 0.04564315, 0.00414938, 0.00829876,\n",
            "        0.11618257, 0.69294606, 0.04149378, 0.04149378]]) object to a scalar value, using its string representation for logging. Resulting string might be invalid\n"
          ]
        }
      ]
    },
    {
      "cell_type": "code",
      "source": [
        "class_names = [k for k, v in doc_label_dct.items()]\n",
        "plot_confusion_matrix(eval_results_doc['eval_doc_confusion_matrix'], class_names)"
      ],
      "metadata": {
        "colab": {
          "base_uri": "https://localhost:8080/",
          "height": 718
        },
        "id": "W541ckGObIK5",
        "outputId": "de34164f-5fd0-43e7-8bc8-272f8808ff84"
      },
      "execution_count": null,
      "outputs": [
        {
          "output_type": "display_data",
          "data": {
            "text/plain": [
              "<Figure size 1000x800 with 2 Axes>"
            ],
            "image/png": "[encoded data removed]"
          },
          "metadata": {}
        }
      ]
    },
    {
      "cell_type": "code",
      "source": [
        "class_names = [k for k, v in ner_label_dct.items()]\n",
        "plot_confusion_matrix(eval_results_doc['eval_ner_confusion_matrix'], class_names)"
      ],
      "metadata": {
        "colab": {
          "base_uri": "https://localhost:8080/",
          "height": 718
        },
        "id": "1M2AKeh0bnBw",
        "outputId": "6f0cfe2d-30da-4d85-e563-c19a296e0daf"
      },
      "execution_count": null,
      "outputs": [
        {
          "output_type": "display_data",
          "data": {
            "text/plain": [
              "<Figure size 1000x800 with 2 Axes>"
            ],
            "image/png": "[encoded data removed]"
          },
          "metadata": {}
        }
      ]
    },
    {
      "cell_type": "code",
      "source": [
        "for key, value in eval_results_doc.items():\n",
        "  if key != 'eval_ner_confusion_matrix' and key != 'eval_doc_confusion_matrix':\n",
        "    print(f\"{key}: {value}\")"
      ],
      "metadata": {
        "colab": {
          "base_uri": "https://localhost:8080/"
        },
        "id": "yhOJQwbMbRJo",
        "outputId": "bf30ff27-ae0a-4fdf-e087-6b41c4f42f89"
      },
      "execution_count": null,
      "outputs": [
        {
          "output_type": "stream",
          "name": "stdout",
          "text": [
            "eval_loss: 0.8035179376602173\n",
            "eval_model_preparation_time: 0.0035\n",
            "eval_ner_accuracy: 0.040276914577722533\n",
            "eval_ner_f1: 0.04610437348112793\n",
            "eval_ner_precision: 0.6250948894548299\n",
            "eval_ner_recall: 0.040276914577722533\n",
            "eval_doc_accuracy: 0.8366637706342311\n",
            "eval_doc_f1: 0.8362969453511507\n",
            "eval_doc_precision: 0.8429158158080237\n",
            "eval_doc_recall: 0.8366637706342311\n",
            "eval_f1: 0.44120065941613934\n",
            "eval_runtime: 19.1879\n",
            "eval_samples_per_second: 179.957\n",
            "eval_steps_per_second: 11.257\n"
          ]
        }
      ]
    },
    {
      "cell_type": "markdown",
      "source": [
        "### NER (token) classification"
      ],
      "metadata": {
        "id": "ZHquOoRroFUF"
      }
    },
    {
      "cell_type": "code",
      "source": [
        "from comet_ml import API\n",
        "\n",
        "api = API(api_key=userdata.get('COMET_API_KEY'))\n",
        "\n",
        "# model name\n",
        "model_name = \"ner_classif-bert-doc_level_and_NER_annots-strat_data-v2-only_token\"\n",
        "\n",
        "#get the Model object\n",
        "model_doc_and_ner = api.get_model(workspace=userdata.get('COMET_WORKSPACE'), model_name=model_name)\n",
        "\n",
        "# Download a Registry Model:\n",
        "model_doc_and_ner.download(\"1.0.0\", \"./deploy/token\", expand=True)"
      ],
      "metadata": {
        "colab": {
          "base_uri": "https://localhost:8080/"
        },
        "id": "i4b5kkSuoJcZ",
        "outputId": "7cb1af03-4267-409f-a745-3f5ddf77989a"
      },
      "execution_count": null,
      "outputs": [
        {
          "output_type": "stream",
          "name": "stderr",
          "text": [
            "\u001b[1;38;5;39mCOMET INFO:\u001b[0m Remote Model 'gonzaq94/ner_classif-bert-doc_level_and_NER_annots-strat_data-v2-only_token:1.0.0' download has been started asynchronously.\n",
            "\u001b[1;38;5;39mCOMET INFO:\u001b[0m Still downloading 6 file(s), remaining 417.74 MB/417.74 MB\n",
            "\u001b[1;38;5;214mCOMET WARNING:\u001b[0m File './deploy/token/best_model/trainer_state.json' has been overwritten by asset 'ae9b40f2b1c842baa84784322fcc826f' of remote model\n",
            "\u001b[1;38;5;214mCOMET WARNING:\u001b[0m File './deploy/token/best_model/training_args.bin' has been overwritten by asset '82345d4d8c514461abdcb9d86ce6ac58' of remote model\n",
            "\u001b[1;38;5;214mCOMET WARNING:\u001b[0m File './deploy/token/best_model/rng_state.pth' has been overwritten by asset '204a291f77c544a59747f2cc597d79e8' of remote model\n",
            "\u001b[1;38;5;214mCOMET WARNING:\u001b[0m File './deploy/token/best_model/model.safetensors' has been overwritten by asset '152b5c5a1f564f2cbae13ff93391eff7' of remote model\n",
            "\u001b[1;38;5;214mCOMET WARNING:\u001b[0m File './deploy/token/best_model/scheduler.pt' has been overwritten by asset 'd2dd962d750b4d48bc9db85cec8730f6' of remote model\n",
            "\u001b[1;38;5;214mCOMET WARNING:\u001b[0m File './deploy/token/best_model/config.json' has been overwritten by asset 'ece3b1bd90e04af5b95fcefdda738b9f' of remote model\n",
            "\u001b[1;38;5;39mCOMET INFO:\u001b[0m Remote Model 'gonzaq94/ner_classif-bert-doc_level_and_NER_annots-strat_data-v2-only_token:1.0.0' has been successfully downloaded.\n",
            "\u001b[1;38;5;39mCOMET INFO:\u001b[0m Downloaded asset files is in './deploy/token' folder.\n"
          ]
        }
      ]
    },
    {
      "cell_type": "code",
      "source": [
        "model_ner = BertForSequenceAndTokenClassification.from_pretrained(\"./deploy/token/best_model\",\n",
        "                                                           num_sequence_labels=len(doc_label_dct),\n",
        "                                                           num_token_labels=len(ner_label_dct),\n",
        "                                                           only_init_bert=False,\n",
        "                                                           attention_probs_dropout_prob=0.0,\n",
        "                                                           hidden_dropout_prob=0.0)\n"
      ],
      "metadata": {
        "id": "krClkv5vo2hl"
      },
      "execution_count": null,
      "outputs": []
    },
    {
      "cell_type": "code",
      "source": [
        "evaluator_ner = Evaluator(model_ner, tokenizer, compute_metrics_eval_ner_and_doc)\n",
        "eval_results_ner = evaluator_ner.evaluate(test_custom_dataset)"
      ],
      "metadata": {
        "colab": {
          "base_uri": "https://localhost:8080/",
          "height": 1000
        },
        "id": "irpuw20Mo_UI",
        "outputId": "16e63cc7-d251-4db1-f31f-8fde45e8b91d"
      },
      "execution_count": null,
      "outputs": [
        {
          "output_type": "stream",
          "name": "stderr",
          "text": [
            "/usr/local/lib/python3.10/dist-packages/accelerate/accelerator.py:494: FutureWarning: `torch.cuda.amp.GradScaler(args...)` is deprecated. Please use `torch.amp.GradScaler('cuda', args...)` instead.\n",
            "  self.scaler = torch.cuda.amp.GradScaler(**kwargs)\n"
          ]
        },
        {
          "output_type": "display_data",
          "data": {
            "text/plain": [
              "<IPython.core.display.HTML object>"
            ],
            "text/html": [
              "\n",
              "    <div>\n",
              "      \n",
              "      <progress value='216' max='216' style='width:300px; height:20px; vertical-align: middle;'></progress>\n",
              "      [216/216 00:26]\n",
              "    </div>\n",
              "    "
            ]
          },
          "metadata": {}
        },
        {
          "output_type": "stream",
          "name": "stderr",
          "text": [
            "\u001b[1;38;5;39mCOMET INFO:\u001b[0m An experiment with the same configuration options is already running and will be reused.\n",
            "\u001b[1;38;5;214mCOMET WARNING:\u001b[0m Cannot safely convert array([[0.        , 0.        , 0.        , 0.9623431 , 0.0376569 ],\n",
            "       [0.        , 0.        , 0.        , 0.95934324, 0.04065676],\n",
            "       [0.        , 0.        , 0.        , 0.94298246, 0.05701754],\n",
            "       [0.        , 0.        , 0.        , 0.92857143, 0.07142857],\n",
            "       [0.        , 0.        , 0.        , 0.96723549, 0.03276451]]) object to a scalar value, using its string representation for logging. Resulting string might be invalid\n",
            "\u001b[1;38;5;214mCOMET WARNING:\u001b[0m Cannot safely convert array([[9.86880916e-01, 8.14439797e-04, 8.80475457e-05, 2.20118864e-03,\n",
            "        2.66343826e-03, 5.94320933e-04, 4.18225842e-04, 4.60048426e-03,\n",
            "        1.73893903e-03],\n",
            "       [5.51876380e-03, 9.45180280e-01, 1.69242090e-02, 2.31788079e-02,\n",
            "        3.67917586e-04, 5.15084621e-03, 0.00000000e+00, 3.67917586e-03,\n",
            "        0.00000000e+00],\n",
            "       [1.20000000e-03, 1.20000000e-03, 9.89600000e-01, 4.00000000e-04,\n",
            "        7.20000000e-03, 0.00000000e+00, 4.00000000e-04, 0.00000000e+00,\n",
            "        0.00000000e+00],\n",
            "       [2.58887172e-02, 2.04791345e-02, 0.00000000e+00, 8.63601236e-01,\n",
            "        1.15919629e-02, 4.71406491e-02, 0.00000000e+00, 3.12982998e-02,\n",
            "        0.00000000e+00],\n",
            "       [5.90476190e-02, 0.00000000e+00, 2.28571429e-02, 1.23809524e-02,\n",
            "        8.45714286e-01, 6.66666667e-03, 2.57142857e-02, 9.52380952e-03,\n",
            "        1.80952381e-02],\n",
            "       [5.64971751e-03, 5.17890772e-03, 1.88323917e-03, 6.07344633e-02,\n",
            "        1.88323917e-03, 8.96421846e-01, 8.94538606e-03, 1.93032015e-02,\n",
            "        0.00000000e+00],\n",
            "       [1.80505415e-02, 0.00000000e+00, 2.52707581e-02, 0.00000000e+00,\n",
            "        1.44404332e-01, 4.69314079e-02, 7.43682310e-01, 0.00000000e+00,\n",
            "        2.16606498e-02],\n",
            "       [1.00401606e-01, 2.61044177e-02, 0.00000000e+00, 9.83935743e-02,\n",
            "        2.00803213e-03, 7.12851406e-02, 5.02008032e-03, 6.90763052e-01,\n",
            "        6.02409639e-03],\n",
            "       [1.70124481e-01, 0.00000000e+00, 2.07468880e-02, 4.56431535e-02,\n",
            "        9.54356846e-02, 0.00000000e+00, 3.73443983e-02, 3.73443983e-02,\n",
            "        5.93360996e-01]]) object to a scalar value, using its string representation for logging. Resulting string might be invalid\n",
            "\u001b[1;38;5;214mCOMET WARNING:\u001b[0m String value length exceeds 1000 characters and will be truncated. Provided value: '[[9.86880916e-01 8.14439797e-04 8.80475457e-05 2.20118864e-03\n",
            "  2.66343826e-03 5.94320933e-04 4.18225842e-04 4.60048426e-03\n",
            "  1.73893903e-03]\n",
            " [5.51876380e-03 9.45180280e-01 1.69242090e-02 2.31788079e-02\n",
            "  3.67917586e-04 5.15084621e-03 0.00000000e+00 3.67917586e-03\n",
            "  0.00000000e+00]\n",
            " [1.20000000e-03 1.20000000e-03 9.89600000e-01 4.00000000e-04\n",
            "  7.20000000e-03 0.00000000e+00 4.00000000e-04 0.00000000e+00\n",
            "  0.00000000e+00]\n",
            " [2.58887172e-02 2.04791345e-02 0.00000000e+00 8.63601236e-01\n",
            "  1.15919629e-02 4.71406491e-02 0.00000000e+00 3.12982998e-02\n",
            "  0.00000000e+00]\n",
            " [5.90476190e-02 0.00000000e+00 2.28571429e-02 1.23809524e-02\n",
            "  8.45714286e-01 6.66666667e-03 2.57142857e-02 9.52380952e-03\n",
            "  1.80952381e-02]\n",
            " [5.64971751e-03 5.17890772e-03 1.88323917e-03 6.07344633e-02\n",
            "  1.88323917e-03 8.96421846e-01 8.94538606e-03 1.93032015e-02\n",
            "  0.00000000e+00]\n",
            " [1.80505415e-02 0.00000000e+00 2.52707581e-02 0.00000000e+00\n",
            "  1.44404332e-01 4.69314079e-02 7.43682310e-01 0.00000000e+00\n",
            "  2.16606498e-02]\n",
            " [1.00401606e-01 2.61044177e-02 0.00000000e+00 9.83935743e-02\n",
            "  2.00803213e-03 7.12851406e-02 5.02008032e-03 6.90763052e-01\n",
            "  6.02409639e-03]\n",
            " [1.70124481e-01 0.00000000e+00 2.07468880e-02 4.56431535e-02\n",
            "  9.54356846e-02 0.00000000e+00 3.73443983e-02 3.73443983e-02\n",
            "  5.93360996e-01]]'\n"
          ]
        }
      ]
    },
    {
      "cell_type": "code",
      "source": [
        "class_names = [k for k, v in doc_label_dct.items()]\n",
        "plot_confusion_matrix(eval_results_ner['eval_doc_confusion_matrix'], class_names)"
      ],
      "metadata": {
        "colab": {
          "base_uri": "https://localhost:8080/",
          "height": 718
        },
        "id": "DKLA199SpTAb",
        "outputId": "e502d4a2-a0e9-4818-b6e6-f88b8490e23e"
      },
      "execution_count": null,
      "outputs": [
        {
          "output_type": "display_data",
          "data": {
            "text/plain": [
              "<Figure size 1000x800 with 2 Axes>"
            ],
            "image/png": "[encoded data removed]"
          },
          "metadata": {}
        }
      ]
    },
    {
      "cell_type": "code",
      "source": [
        "class_names = [k for k, v in ner_label_dct.items()]\n",
        "plot_confusion_matrix(eval_results_ner['eval_ner_confusion_matrix'], class_names)"
      ],
      "metadata": {
        "id": "tt382H2alyKg",
        "outputId": "2e0fa447-ec06-46a6-863c-84c577ad9c41",
        "colab": {
          "base_uri": "https://localhost:8080/",
          "height": 718
        }
      },
      "execution_count": null,
      "outputs": [
        {
          "output_type": "display_data",
          "data": {
            "text/plain": [
              "<Figure size 1000x800 with 2 Axes>"
            ],
            "image/png": "[encoded data removed]"
          },
          "metadata": {}
        }
      ]
    },
    {
      "cell_type": "code",
      "source": [
        "for key, value in eval_results_ner.items():\n",
        "  if key != 'eval_ner_confusion_matrix' and key != 'eval_doc_confusion_matrix':\n",
        "    print(f\"{key}: {value}\")"
      ],
      "metadata": {
        "colab": {
          "base_uri": "https://localhost:8080/"
        },
        "id": "0tVpp3Sop5gs",
        "outputId": "12077cf9-4c56-4683-fcb2-918291a223be"
      },
      "execution_count": null,
      "outputs": [
        {
          "output_type": "stream",
          "name": "stdout",
          "text": [
            "eval_loss: 1.652701735496521\n",
            "eval_model_preparation_time: 0.0058\n",
            "eval_ner_accuracy: 0.9657654858089911\n",
            "eval_ner_f1: 0.966189235611421\n",
            "eval_ner_precision: 0.966715058104451\n",
            "eval_ner_recall: 0.9657654858089911\n",
            "eval_doc_accuracy: 0.017665797856936\n",
            "eval_doc_f1: 0.025471871794971453\n",
            "eval_doc_precision: 0.7214346053828014\n",
            "eval_doc_recall: 0.017665797856936\n",
            "eval_f1: 0.49583055370319623\n",
            "eval_runtime: 27.4506\n",
            "eval_samples_per_second: 125.79\n",
            "eval_steps_per_second: 7.869\n"
          ]
        }
      ]
    },
    {
      "cell_type": "code",
      "source": [],
      "metadata": {
        "id": "aB-UTLOPbF9s"
      },
      "execution_count": null,
      "outputs": []
    },
    {
      "cell_type": "code",
      "source": [],
      "metadata": {
        "id": "2439AqtMp7gF"
      },
      "execution_count": null,
      "outputs": []
    }
  ]
}